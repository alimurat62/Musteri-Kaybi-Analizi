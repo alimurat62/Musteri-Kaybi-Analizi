{
 "cells": [
  {
   "cell_type": "markdown",
   "id": "e6b42e55-97b5-4f69-a6e4-50220459fc67",
   "metadata": {},
   "source": [
    "# 1. Kütüphanelerin Yüklenmesi"
   ]
  },
  {
   "cell_type": "code",
   "execution_count": 2,
   "id": "9c39ab7e-df5a-40c1-9379-3027cfb1d493",
   "metadata": {},
   "outputs": [],
   "source": [
    "import pandas as pd\n",
    "import numpy as np\n",
    "import matplotlib.pyplot as plt\n",
    "import seaborn as sns\n",
    "from datasets import load_dataset"
   ]
  },
  {
   "cell_type": "markdown",
   "id": "4699adb1-39aa-4bc0-a719-af8659c0e4b5",
   "metadata": {},
   "source": [
    "# 2. Veri Setini Yükleme"
   ]
  },
  {
   "cell_type": "code",
   "execution_count": 3,
   "id": "2e4d7a72-5089-483b-996e-3e8fa79951fe",
   "metadata": {},
   "outputs": [],
   "source": [
    "# Customer Churn verisetini yükleyelim\n",
    "dataset = load_dataset(\"d0r1h/customer_churn\")\n",
    "df = dataset[\"train\"].to_pandas()\n",
    "\n",
    "# Pandas ayarlarını yaparak tüm sütunların görünmesini sağlıyoruz\n",
    "pd.set_option('display.max_columns', None)"
   ]
  },
  {
   "cell_type": "code",
   "execution_count": 4,
   "id": "fe8558a1-cd99-489b-8044-31694fa47fa0",
   "metadata": {},
   "outputs": [
    {
     "data": {
      "text/html": [
       "<div>\n",
       "<style scoped>\n",
       "    .dataframe tbody tr th:only-of-type {\n",
       "        vertical-align: middle;\n",
       "    }\n",
       "\n",
       "    .dataframe tbody tr th {\n",
       "        vertical-align: top;\n",
       "    }\n",
       "\n",
       "    .dataframe thead th {\n",
       "        text-align: right;\n",
       "    }\n",
       "</style>\n",
       "<table border=\"1\" class=\"dataframe\">\n",
       "  <thead>\n",
       "    <tr style=\"text-align: right;\">\n",
       "      <th></th>\n",
       "      <th>age</th>\n",
       "      <th>gender</th>\n",
       "      <th>security_no</th>\n",
       "      <th>region_category</th>\n",
       "      <th>membership_category</th>\n",
       "      <th>joining_date</th>\n",
       "      <th>joined_through_referral</th>\n",
       "      <th>referral_id</th>\n",
       "      <th>preferred_offer_types</th>\n",
       "      <th>medium_of_operation</th>\n",
       "      <th>internet_option</th>\n",
       "      <th>last_visit_time</th>\n",
       "      <th>days_since_last_login</th>\n",
       "      <th>avg_time_spent</th>\n",
       "      <th>avg_transaction_value</th>\n",
       "      <th>avg_frequency_login_days</th>\n",
       "      <th>points_in_wallet</th>\n",
       "      <th>used_special_discount</th>\n",
       "      <th>offer_application_preference</th>\n",
       "      <th>past_complaint</th>\n",
       "      <th>complaint_status</th>\n",
       "      <th>feedback</th>\n",
       "      <th>churn_risk_score</th>\n",
       "    </tr>\n",
       "  </thead>\n",
       "  <tbody>\n",
       "    <tr>\n",
       "      <th>0</th>\n",
       "      <td>18</td>\n",
       "      <td>F</td>\n",
       "      <td>XW0DQ7H</td>\n",
       "      <td>Village</td>\n",
       "      <td>Platinum Membership</td>\n",
       "      <td>17-08-2017</td>\n",
       "      <td>No</td>\n",
       "      <td>xxxxxxxx</td>\n",
       "      <td>Gift Vouchers/Coupons</td>\n",
       "      <td>?</td>\n",
       "      <td>Wi-Fi</td>\n",
       "      <td>16:08:02</td>\n",
       "      <td>17</td>\n",
       "      <td>300.63</td>\n",
       "      <td>53005.25</td>\n",
       "      <td>17</td>\n",
       "      <td>781.75</td>\n",
       "      <td>Yes</td>\n",
       "      <td>Yes</td>\n",
       "      <td>No</td>\n",
       "      <td>Not Applicable</td>\n",
       "      <td>Products always in Stock</td>\n",
       "      <td>0</td>\n",
       "    </tr>\n",
       "    <tr>\n",
       "      <th>1</th>\n",
       "      <td>32</td>\n",
       "      <td>F</td>\n",
       "      <td>5K0N3X1</td>\n",
       "      <td>City</td>\n",
       "      <td>Premium Membership</td>\n",
       "      <td>28-08-2017</td>\n",
       "      <td>?</td>\n",
       "      <td>CID21329</td>\n",
       "      <td>Gift Vouchers/Coupons</td>\n",
       "      <td>Desktop</td>\n",
       "      <td>Mobile_Data</td>\n",
       "      <td>12:38:13</td>\n",
       "      <td>16</td>\n",
       "      <td>306.34</td>\n",
       "      <td>12838.38</td>\n",
       "      <td>10</td>\n",
       "      <td>NaN</td>\n",
       "      <td>Yes</td>\n",
       "      <td>No</td>\n",
       "      <td>Yes</td>\n",
       "      <td>Solved</td>\n",
       "      <td>Quality Customer Care</td>\n",
       "      <td>0</td>\n",
       "    </tr>\n",
       "    <tr>\n",
       "      <th>2</th>\n",
       "      <td>44</td>\n",
       "      <td>F</td>\n",
       "      <td>1F2TCL3</td>\n",
       "      <td>Town</td>\n",
       "      <td>No Membership</td>\n",
       "      <td>11-11-2016</td>\n",
       "      <td>Yes</td>\n",
       "      <td>CID12313</td>\n",
       "      <td>Gift Vouchers/Coupons</td>\n",
       "      <td>Desktop</td>\n",
       "      <td>Wi-Fi</td>\n",
       "      <td>22:53:21</td>\n",
       "      <td>14</td>\n",
       "      <td>516.16</td>\n",
       "      <td>21027.00</td>\n",
       "      <td>22</td>\n",
       "      <td>500.69</td>\n",
       "      <td>No</td>\n",
       "      <td>Yes</td>\n",
       "      <td>Yes</td>\n",
       "      <td>Solved in Follow-up</td>\n",
       "      <td>Poor Website</td>\n",
       "      <td>1</td>\n",
       "    </tr>\n",
       "    <tr>\n",
       "      <th>3</th>\n",
       "      <td>37</td>\n",
       "      <td>M</td>\n",
       "      <td>VJGJ33N</td>\n",
       "      <td>City</td>\n",
       "      <td>No Membership</td>\n",
       "      <td>29-10-2016</td>\n",
       "      <td>Yes</td>\n",
       "      <td>CID3793</td>\n",
       "      <td>Gift Vouchers/Coupons</td>\n",
       "      <td>Desktop</td>\n",
       "      <td>Mobile_Data</td>\n",
       "      <td>15:57:50</td>\n",
       "      <td>11</td>\n",
       "      <td>53.27</td>\n",
       "      <td>25239.56</td>\n",
       "      <td>6</td>\n",
       "      <td>567.66</td>\n",
       "      <td>No</td>\n",
       "      <td>Yes</td>\n",
       "      <td>Yes</td>\n",
       "      <td>Unsolved</td>\n",
       "      <td>Poor Website</td>\n",
       "      <td>1</td>\n",
       "    </tr>\n",
       "    <tr>\n",
       "      <th>4</th>\n",
       "      <td>31</td>\n",
       "      <td>F</td>\n",
       "      <td>SVZXCWB</td>\n",
       "      <td>City</td>\n",
       "      <td>No Membership</td>\n",
       "      <td>12-09-2017</td>\n",
       "      <td>No</td>\n",
       "      <td>xxxxxxxx</td>\n",
       "      <td>Credit/Debit Card Offers</td>\n",
       "      <td>Smartphone</td>\n",
       "      <td>Mobile_Data</td>\n",
       "      <td>15:46:44</td>\n",
       "      <td>20</td>\n",
       "      <td>113.13</td>\n",
       "      <td>24483.66</td>\n",
       "      <td>16</td>\n",
       "      <td>663.06</td>\n",
       "      <td>No</td>\n",
       "      <td>Yes</td>\n",
       "      <td>Yes</td>\n",
       "      <td>Solved</td>\n",
       "      <td>Poor Website</td>\n",
       "      <td>1</td>\n",
       "    </tr>\n",
       "    <tr>\n",
       "      <th>5</th>\n",
       "      <td>13</td>\n",
       "      <td>M</td>\n",
       "      <td>PSG1LGF</td>\n",
       "      <td>City</td>\n",
       "      <td>Gold Membership</td>\n",
       "      <td>08-01-2016</td>\n",
       "      <td>No</td>\n",
       "      <td>xxxxxxxx</td>\n",
       "      <td>Gift Vouchers/Coupons</td>\n",
       "      <td>?</td>\n",
       "      <td>Wi-Fi</td>\n",
       "      <td>6:46:07</td>\n",
       "      <td>23</td>\n",
       "      <td>433.62</td>\n",
       "      <td>13884.77</td>\n",
       "      <td>24</td>\n",
       "      <td>722.27</td>\n",
       "      <td>Yes</td>\n",
       "      <td>No</td>\n",
       "      <td>Yes</td>\n",
       "      <td>Unsolved</td>\n",
       "      <td>No reason specified</td>\n",
       "      <td>0</td>\n",
       "    </tr>\n",
       "    <tr>\n",
       "      <th>6</th>\n",
       "      <td>21</td>\n",
       "      <td>M</td>\n",
       "      <td>R3CX1EA</td>\n",
       "      <td>Town</td>\n",
       "      <td>Gold Membership</td>\n",
       "      <td>19-03-2015</td>\n",
       "      <td>Yes</td>\n",
       "      <td>CID24708</td>\n",
       "      <td>Gift Vouchers/Coupons</td>\n",
       "      <td>Desktop</td>\n",
       "      <td>Mobile_Data</td>\n",
       "      <td>11:40:04</td>\n",
       "      <td>10</td>\n",
       "      <td>55.38</td>\n",
       "      <td>8982.50</td>\n",
       "      <td>28</td>\n",
       "      <td>756.21</td>\n",
       "      <td>Yes</td>\n",
       "      <td>No</td>\n",
       "      <td>Yes</td>\n",
       "      <td>Solved in Follow-up</td>\n",
       "      <td>No reason specified</td>\n",
       "      <td>0</td>\n",
       "    </tr>\n",
       "    <tr>\n",
       "      <th>7</th>\n",
       "      <td>42</td>\n",
       "      <td>M</td>\n",
       "      <td>4UJ1551</td>\n",
       "      <td>None</td>\n",
       "      <td>No Membership</td>\n",
       "      <td>12-07-2016</td>\n",
       "      <td>?</td>\n",
       "      <td>CID56614</td>\n",
       "      <td>Credit/Debit Card Offers</td>\n",
       "      <td>Both</td>\n",
       "      <td>Fiber_Optic</td>\n",
       "      <td>7:52:43</td>\n",
       "      <td>19</td>\n",
       "      <td>429.11</td>\n",
       "      <td>44554.82</td>\n",
       "      <td>24</td>\n",
       "      <td>568.08</td>\n",
       "      <td>No</td>\n",
       "      <td>Yes</td>\n",
       "      <td>Yes</td>\n",
       "      <td>Unsolved</td>\n",
       "      <td>Poor Product Quality</td>\n",
       "      <td>1</td>\n",
       "    </tr>\n",
       "    <tr>\n",
       "      <th>8</th>\n",
       "      <td>44</td>\n",
       "      <td>M</td>\n",
       "      <td>0481QNQ</td>\n",
       "      <td>Village</td>\n",
       "      <td>Silver Membership</td>\n",
       "      <td>14-12-2016</td>\n",
       "      <td>No</td>\n",
       "      <td>xxxxxxxx</td>\n",
       "      <td>Without Offers</td>\n",
       "      <td>Smartphone</td>\n",
       "      <td>Fiber_Optic</td>\n",
       "      <td>6:50:10</td>\n",
       "      <td>15</td>\n",
       "      <td>191.07</td>\n",
       "      <td>18362.31</td>\n",
       "      <td>20</td>\n",
       "      <td>NaN</td>\n",
       "      <td>Yes</td>\n",
       "      <td>No</td>\n",
       "      <td>Yes</td>\n",
       "      <td>Solved in Follow-up</td>\n",
       "      <td>Poor Customer Service</td>\n",
       "      <td>0</td>\n",
       "    </tr>\n",
       "    <tr>\n",
       "      <th>9</th>\n",
       "      <td>45</td>\n",
       "      <td>F</td>\n",
       "      <td>ZHP4MCR</td>\n",
       "      <td>Town</td>\n",
       "      <td>No Membership</td>\n",
       "      <td>30-11-2016</td>\n",
       "      <td>No</td>\n",
       "      <td>xxxxxxxx</td>\n",
       "      <td>Gift Vouchers/Coupons</td>\n",
       "      <td>?</td>\n",
       "      <td>Wi-Fi</td>\n",
       "      <td>19:10:16</td>\n",
       "      <td>10</td>\n",
       "      <td>97.31</td>\n",
       "      <td>19244.16</td>\n",
       "      <td>28</td>\n",
       "      <td>706.23</td>\n",
       "      <td>No</td>\n",
       "      <td>Yes</td>\n",
       "      <td>Yes</td>\n",
       "      <td>No Information Available</td>\n",
       "      <td>Poor Customer Service</td>\n",
       "      <td>1</td>\n",
       "    </tr>\n",
       "  </tbody>\n",
       "</table>\n",
       "</div>"
      ],
      "text/plain": [
       "   age gender security_no region_category  membership_category joining_date  \\\n",
       "0   18      F     XW0DQ7H         Village  Platinum Membership   17-08-2017   \n",
       "1   32      F     5K0N3X1            City   Premium Membership   28-08-2017   \n",
       "2   44      F     1F2TCL3            Town        No Membership   11-11-2016   \n",
       "3   37      M     VJGJ33N            City        No Membership   29-10-2016   \n",
       "4   31      F     SVZXCWB            City        No Membership   12-09-2017   \n",
       "5   13      M     PSG1LGF            City      Gold Membership   08-01-2016   \n",
       "6   21      M     R3CX1EA            Town      Gold Membership   19-03-2015   \n",
       "7   42      M     4UJ1551            None        No Membership   12-07-2016   \n",
       "8   44      M     0481QNQ         Village    Silver Membership   14-12-2016   \n",
       "9   45      F     ZHP4MCR            Town        No Membership   30-11-2016   \n",
       "\n",
       "  joined_through_referral referral_id     preferred_offer_types  \\\n",
       "0                      No    xxxxxxxx     Gift Vouchers/Coupons   \n",
       "1                       ?    CID21329     Gift Vouchers/Coupons   \n",
       "2                     Yes    CID12313     Gift Vouchers/Coupons   \n",
       "3                     Yes     CID3793     Gift Vouchers/Coupons   \n",
       "4                      No    xxxxxxxx  Credit/Debit Card Offers   \n",
       "5                      No    xxxxxxxx     Gift Vouchers/Coupons   \n",
       "6                     Yes    CID24708     Gift Vouchers/Coupons   \n",
       "7                       ?    CID56614  Credit/Debit Card Offers   \n",
       "8                      No    xxxxxxxx            Without Offers   \n",
       "9                      No    xxxxxxxx     Gift Vouchers/Coupons   \n",
       "\n",
       "  medium_of_operation internet_option last_visit_time  days_since_last_login  \\\n",
       "0                   ?           Wi-Fi        16:08:02                     17   \n",
       "1             Desktop     Mobile_Data        12:38:13                     16   \n",
       "2             Desktop           Wi-Fi        22:53:21                     14   \n",
       "3             Desktop     Mobile_Data        15:57:50                     11   \n",
       "4          Smartphone     Mobile_Data        15:46:44                     20   \n",
       "5                   ?           Wi-Fi         6:46:07                     23   \n",
       "6             Desktop     Mobile_Data        11:40:04                     10   \n",
       "7                Both     Fiber_Optic         7:52:43                     19   \n",
       "8          Smartphone     Fiber_Optic         6:50:10                     15   \n",
       "9                   ?           Wi-Fi        19:10:16                     10   \n",
       "\n",
       "   avg_time_spent  avg_transaction_value avg_frequency_login_days  \\\n",
       "0          300.63               53005.25                       17   \n",
       "1          306.34               12838.38                       10   \n",
       "2          516.16               21027.00                       22   \n",
       "3           53.27               25239.56                        6   \n",
       "4          113.13               24483.66                       16   \n",
       "5          433.62               13884.77                       24   \n",
       "6           55.38                8982.50                       28   \n",
       "7          429.11               44554.82                       24   \n",
       "8          191.07               18362.31                       20   \n",
       "9           97.31               19244.16                       28   \n",
       "\n",
       "   points_in_wallet used_special_discount offer_application_preference  \\\n",
       "0            781.75                   Yes                          Yes   \n",
       "1               NaN                   Yes                           No   \n",
       "2            500.69                    No                          Yes   \n",
       "3            567.66                    No                          Yes   \n",
       "4            663.06                    No                          Yes   \n",
       "5            722.27                   Yes                           No   \n",
       "6            756.21                   Yes                           No   \n",
       "7            568.08                    No                          Yes   \n",
       "8               NaN                   Yes                           No   \n",
       "9            706.23                    No                          Yes   \n",
       "\n",
       "  past_complaint          complaint_status                  feedback  \\\n",
       "0             No            Not Applicable  Products always in Stock   \n",
       "1            Yes                    Solved     Quality Customer Care   \n",
       "2            Yes       Solved in Follow-up              Poor Website   \n",
       "3            Yes                  Unsolved              Poor Website   \n",
       "4            Yes                    Solved              Poor Website   \n",
       "5            Yes                  Unsolved       No reason specified   \n",
       "6            Yes       Solved in Follow-up       No reason specified   \n",
       "7            Yes                  Unsolved      Poor Product Quality   \n",
       "8            Yes       Solved in Follow-up     Poor Customer Service   \n",
       "9            Yes  No Information Available     Poor Customer Service   \n",
       "\n",
       "   churn_risk_score  \n",
       "0                 0  \n",
       "1                 0  \n",
       "2                 1  \n",
       "3                 1  \n",
       "4                 1  \n",
       "5                 0  \n",
       "6                 0  \n",
       "7                 1  \n",
       "8                 0  \n",
       "9                 1  "
      ]
     },
     "execution_count": 4,
     "metadata": {},
     "output_type": "execute_result"
    }
   ],
   "source": [
    "# İlk 10 satıra bakalım\n",
    "df.head(10)"
   ]
  },
  {
   "cell_type": "code",
   "execution_count": 5,
   "id": "61a7d5af-598b-4699-8975-de306c76dc12",
   "metadata": {},
   "outputs": [
    {
     "name": "stdout",
     "output_type": "stream",
     "text": [
      "<class 'pandas.core.frame.DataFrame'>\n",
      "RangeIndex: 36992 entries, 0 to 36991\n",
      "Data columns (total 23 columns):\n",
      " #   Column                        Non-Null Count  Dtype  \n",
      "---  ------                        --------------  -----  \n",
      " 0   age                           36992 non-null  int64  \n",
      " 1   gender                        36992 non-null  object \n",
      " 2   security_no                   36992 non-null  object \n",
      " 3   region_category               31564 non-null  object \n",
      " 4   membership_category           36992 non-null  object \n",
      " 5   joining_date                  36992 non-null  object \n",
      " 6   joined_through_referral       36992 non-null  object \n",
      " 7   referral_id                   36992 non-null  object \n",
      " 8   preferred_offer_types         36704 non-null  object \n",
      " 9   medium_of_operation           36992 non-null  object \n",
      " 10  internet_option               36992 non-null  object \n",
      " 11  last_visit_time               36992 non-null  object \n",
      " 12  days_since_last_login         36992 non-null  int64  \n",
      " 13  avg_time_spent                36992 non-null  float64\n",
      " 14  avg_transaction_value         36992 non-null  float64\n",
      " 15  avg_frequency_login_days      36992 non-null  object \n",
      " 16  points_in_wallet              33549 non-null  float64\n",
      " 17  used_special_discount         36992 non-null  object \n",
      " 18  offer_application_preference  36992 non-null  object \n",
      " 19  past_complaint                36992 non-null  object \n",
      " 20  complaint_status              36992 non-null  object \n",
      " 21  feedback                      36992 non-null  object \n",
      " 22  churn_risk_score              36992 non-null  int64  \n",
      "dtypes: float64(3), int64(3), object(17)\n",
      "memory usage: 6.5+ MB\n"
     ]
    }
   ],
   "source": [
    "# Veri hakkında bilgi alalım\n",
    "df.info()"
   ]
  },
  {
   "cell_type": "markdown",
   "id": "62310796-cd55-4990-b1bd-6d49b95b0941",
   "metadata": {},
   "source": [
    "# 3. Gereksiz Sütunların Düşürülmesi"
   ]
  },
  {
   "cell_type": "code",
   "execution_count": 6,
   "id": "fed8fb84-fecd-4db9-a477-1ab8eea61cdb",
   "metadata": {},
   "outputs": [],
   "source": [
    "# Analiz için kullanılmayacak sütunları düşürüyoruz\n",
    "df.drop(['security_no', 'referral_id', 'last_visit_time'], axis=1, inplace=True)"
   ]
  },
  {
   "cell_type": "markdown",
   "id": "4e783af4-91b6-43c0-a10d-dfc4a5b133a8",
   "metadata": {},
   "source": [
    "# 4. Geçersiz Değerlerin Kontrolü ve Düzeltilmesi"
   ]
  },
  {
   "cell_type": "code",
   "execution_count": 7,
   "id": "b90739e5-1b75-41bf-b032-2a7d9b870766",
   "metadata": {},
   "outputs": [
    {
     "name": "stdout",
     "output_type": "stream",
     "text": [
      "Toplam geçersiz değer sayısı: 10831\n"
     ]
    }
   ],
   "source": [
    "# Veri setindeki 'null' veya '?' gibi geçersiz değerleri 'NaN' ile değiştireceğiz\n",
    "invalid_values_count = df.isin(['null', '?']).sum().sum()\n",
    "print(f\"Toplam geçersiz değer sayısı: {invalid_values_count}\")"
   ]
  },
  {
   "cell_type": "code",
   "execution_count": 8,
   "id": "18226b2c-8379-4c3c-96c8-c4f21721ac63",
   "metadata": {},
   "outputs": [],
   "source": [
    "# 'null' ve '?' değerlerini NaN ile değiştirelim\n",
    "df.replace({'null': np.nan, '?': np.nan}, inplace=True)"
   ]
  },
  {
   "cell_type": "markdown",
   "id": "744b0a8d-3a57-4655-9168-14ff08eaac4a",
   "metadata": {},
   "source": [
    "# 5. Eksik Verilerin Kontrolü ve Doldurulması"
   ]
  },
  {
   "cell_type": "code",
   "execution_count": 9,
   "id": "eb2cf792-b8c6-44e0-937f-1b53876e3d89",
   "metadata": {},
   "outputs": [
    {
     "data": {
      "text/plain": [
       "age                                0\n",
       "gender                             0\n",
       "region_category                 5428\n",
       "membership_category                0\n",
       "joining_date                       0\n",
       "joined_through_referral         5438\n",
       "preferred_offer_types            288\n",
       "medium_of_operation             5393\n",
       "internet_option                    0\n",
       "days_since_last_login              0\n",
       "avg_time_spent                     0\n",
       "avg_transaction_value              0\n",
       "avg_frequency_login_days           0\n",
       "points_in_wallet                3443\n",
       "used_special_discount              0\n",
       "offer_application_preference       0\n",
       "past_complaint                     0\n",
       "complaint_status                   0\n",
       "feedback                           0\n",
       "churn_risk_score                   0\n",
       "dtype: int64"
      ]
     },
     "execution_count": 9,
     "metadata": {},
     "output_type": "execute_result"
    }
   ],
   "source": [
    "# Eksik değerlerin hangi sütunlarda olduğunu kontrol edelim\n",
    "df.isnull().sum()"
   ]
  },
  {
   "cell_type": "code",
   "execution_count": 10,
   "id": "a63b99ed-c8ac-4f19-894f-c3c2998ae8a8",
   "metadata": {},
   "outputs": [],
   "source": [
    "# Eksik verileri, ilgili sütunun mod veya medyanı ile dolduruyoruz\n",
    "df['region_category'] = df['region_category'].fillna(df['region_category'].mode()[0])\n",
    "df['joined_through_referral'] = df['joined_through_referral'].fillna(df['joined_through_referral'].mode()[0])\n",
    "df['preferred_offer_types'] = df['preferred_offer_types'].fillna(df['preferred_offer_types'].mode()[0])\n",
    "df['medium_of_operation'] = df['medium_of_operation'].fillna(df['medium_of_operation'].mode()[0])\n",
    "df['points_in_wallet'] = df['points_in_wallet'].fillna(df['points_in_wallet'].median())"
   ]
  },
  {
   "cell_type": "code",
   "execution_count": 11,
   "id": "f8d7de26-0e71-4e9e-88b9-9387c0261f69",
   "metadata": {},
   "outputs": [
    {
     "data": {
      "text/plain": [
       "age                             0\n",
       "gender                          0\n",
       "region_category                 0\n",
       "membership_category             0\n",
       "joining_date                    0\n",
       "joined_through_referral         0\n",
       "preferred_offer_types           0\n",
       "medium_of_operation             0\n",
       "internet_option                 0\n",
       "days_since_last_login           0\n",
       "avg_time_spent                  0\n",
       "avg_transaction_value           0\n",
       "avg_frequency_login_days        0\n",
       "points_in_wallet                0\n",
       "used_special_discount           0\n",
       "offer_application_preference    0\n",
       "past_complaint                  0\n",
       "complaint_status                0\n",
       "feedback                        0\n",
       "churn_risk_score                0\n",
       "dtype: int64"
      ]
     },
     "execution_count": 11,
     "metadata": {},
     "output_type": "execute_result"
    }
   ],
   "source": [
    "# Eksik değerleri kontrol edelim\n",
    "df.isnull().sum()"
   ]
  },
  {
   "cell_type": "markdown",
   "id": "6ac386cc-fc60-4dd8-868b-0e7e48325ac9",
   "metadata": {},
   "source": [
    "# 6. Tarih Formatı ve Kodlama"
   ]
  },
  {
   "cell_type": "code",
   "execution_count": 12,
   "id": "95dcdb1f-3c09-47d7-89c0-31a0541b1381",
   "metadata": {},
   "outputs": [],
   "source": [
    "# Tarih sütununu doğru formatta datetime türüne çeviriyoruz\n",
    "df['joining_date'] = pd.to_datetime(df['joining_date'], format='%d-%m-%Y')"
   ]
  },
  {
   "cell_type": "code",
   "execution_count": 13,
   "id": "40b017c3-c9eb-4c70-b91e-fec455539578",
   "metadata": {},
   "outputs": [],
   "source": [
    "# 'joined_through_referral' sütununu binary olarak kodluyoruz\n",
    "df['joined_through_referral'] = df['joined_through_referral'].map({'Yes': 1, 'No': 0})"
   ]
  },
  {
   "cell_type": "code",
   "execution_count": 14,
   "id": "d2136e80-c80e-4c13-8c5e-a7a5a4811692",
   "metadata": {},
   "outputs": [],
   "source": [
    "# 'avg_frequency_login_days' sütununu sayısal değerlere dönüştürüyoruz\n",
    "df['avg_frequency_login_days'] = pd.to_numeric(df['avg_frequency_login_days'], errors='coerce')\n",
    "\n",
    "# Eksik olan 'avg_frequency_login_days' verisini medyan ile dolduruyoruz\n",
    "df['avg_frequency_login_days'] = df['avg_frequency_login_days'].fillna(df['avg_frequency_login_days'].median())"
   ]
  },
  {
   "cell_type": "code",
   "execution_count": 15,
   "id": "3c3baa5e-f8f1-46fa-9215-5ae506420e33",
   "metadata": {},
   "outputs": [
    {
     "name": "stdout",
     "output_type": "stream",
     "text": [
      "<class 'pandas.core.frame.DataFrame'>\n",
      "RangeIndex: 36992 entries, 0 to 36991\n",
      "Data columns (total 20 columns):\n",
      " #   Column                        Non-Null Count  Dtype         \n",
      "---  ------                        --------------  -----         \n",
      " 0   age                           36992 non-null  int64         \n",
      " 1   gender                        36992 non-null  object        \n",
      " 2   region_category               36992 non-null  object        \n",
      " 3   membership_category           36992 non-null  object        \n",
      " 4   joining_date                  36992 non-null  datetime64[ns]\n",
      " 5   joined_through_referral       36992 non-null  int64         \n",
      " 6   preferred_offer_types         36992 non-null  object        \n",
      " 7   medium_of_operation           36992 non-null  object        \n",
      " 8   internet_option               36992 non-null  object        \n",
      " 9   days_since_last_login         36992 non-null  int64         \n",
      " 10  avg_time_spent                36992 non-null  float64       \n",
      " 11  avg_transaction_value         36992 non-null  float64       \n",
      " 12  avg_frequency_login_days      36992 non-null  float64       \n",
      " 13  points_in_wallet              36992 non-null  float64       \n",
      " 14  used_special_discount         36992 non-null  object        \n",
      " 15  offer_application_preference  36992 non-null  object        \n",
      " 16  past_complaint                36992 non-null  object        \n",
      " 17  complaint_status              36992 non-null  object        \n",
      " 18  feedback                      36992 non-null  object        \n",
      " 19  churn_risk_score              36992 non-null  int64         \n",
      "dtypes: datetime64[ns](1), float64(4), int64(4), object(11)\n",
      "memory usage: 5.6+ MB\n"
     ]
    }
   ],
   "source": [
    "# Veri tipi değişikliklerinin sonucunu kontrol ediyoruz\n",
    "df.info()"
   ]
  },
  {
   "cell_type": "markdown",
   "id": "0c75ac7b-e516-410c-aca9-bed238e17649",
   "metadata": {},
   "source": [
    "# 7. Kategorik Verilerin İncelenmesi"
   ]
  },
  {
   "cell_type": "code",
   "execution_count": 16,
   "id": "983ff053-15fd-4c5d-b227-d6d9aacbe69b",
   "metadata": {
    "scrolled": true
   },
   "outputs": [
    {
     "name": "stdout",
     "output_type": "stream",
     "text": [
      "gender:\n",
      "1. F\n",
      "2. M\n",
      "3. Unknown\n",
      "\n",
      "region_category:\n",
      "1. Village\n",
      "2. City\n",
      "3. Town\n",
      "\n",
      "membership_category:\n",
      "1. Platinum Membership\n",
      "2. Premium Membership\n",
      "3. No Membership\n",
      "4. Gold Membership\n",
      "5. Silver Membership\n",
      "6. Basic Membership\n",
      "\n",
      "preferred_offer_types:\n",
      "1. Gift Vouchers/Coupons\n",
      "2. Credit/Debit Card Offers\n",
      "3. Without Offers\n",
      "\n",
      "medium_of_operation:\n",
      "1. Desktop\n",
      "2. Smartphone\n",
      "3. Both\n",
      "\n",
      "internet_option:\n",
      "1. Wi-Fi\n",
      "2. Mobile_Data\n",
      "3. Fiber_Optic\n",
      "\n",
      "used_special_discount:\n",
      "1. Yes\n",
      "2. No\n",
      "\n",
      "offer_application_preference:\n",
      "1. Yes\n",
      "2. No\n",
      "\n",
      "past_complaint:\n",
      "1. No\n",
      "2. Yes\n",
      "\n",
      "complaint_status:\n",
      "1. Not Applicable\n",
      "2. Solved\n",
      "3. Solved in Follow-up\n",
      "4. Unsolved\n",
      "5. No Information Available\n",
      "\n",
      "feedback:\n",
      "1. Products always in Stock\n",
      "2. Quality Customer Care\n",
      "3. Poor Website\n",
      "4. No reason specified\n",
      "5. Poor Product Quality\n",
      "6. Poor Customer Service\n",
      "7. Too many ads\n",
      "8. User Friendly Website\n",
      "9. Reasonable Price\n",
      "\n"
     ]
    }
   ],
   "source": [
    "# Kategorik sütunların benzersiz değerlerini görmek için fonksiyon yazıyoruz\n",
    "def print_unique_col_values(df):\n",
    "    for column in df:\n",
    "        if df[column].dtype == 'object':  # Sadece kategorik sütunlar\n",
    "            print(f'{column}:')\n",
    "            unique_values = df[column].unique()  # Benzersiz değerler\n",
    "            for i, value in enumerate(unique_values, start=1):\n",
    "                print(f'{i}. {value}')\n",
    "            print()  # Sütunlar arasına boşluk eklemek için\n",
    "\n",
    "print_unique_col_values(df)"
   ]
  },
  {
   "cell_type": "markdown",
   "id": "3c80787f-a422-4c8d-bee1-4947398e1db8",
   "metadata": {},
   "source": [
    "# 8. Kategorik Verilerin Sayısal Verilere Dönüştürülmesi"
   ]
  },
  {
   "cell_type": "code",
   "execution_count": 17,
   "id": "e2787c30-f7e3-4543-8d8a-603b54be22e3",
   "metadata": {},
   "outputs": [],
   "source": [
    "# Kategorik verileri sayısal verilere dönüştürüyoruz\n",
    "df['gender'] = df['gender'].map({'F': 0, 'M': 1, 'Unknown': 2})\n",
    "\n",
    "df['region_category'] = df['region_category'].map({'Town': 0, 'City': 1, 'Village': 2})\n",
    "\n",
    "df['medium_of_operation'] = df['medium_of_operation'].map({'Desktop': 0, 'Smartphone': 1, 'Both': 2})\n",
    "\n",
    "df['internet_option'] = df['internet_option'].map({'Wi-Fi': 0, 'Mobile_Data': 1, 'Fiber_Optic': 2})\n",
    "\n",
    "df['used_special_discount'] = df['used_special_discount'].map({'No': 0, 'Yes': 1})\n",
    "\n",
    "df['offer_application_preference'] = df['offer_application_preference'].map({'No': 0, 'Yes': 1})\n",
    "\n",
    "df['past_complaint'] = df['past_complaint'].map({'No': 0, 'Yes': 1})"
   ]
  },
  {
   "cell_type": "code",
   "execution_count": 18,
   "id": "acd6cc34-0957-4da6-a5d3-3ad32b0624bb",
   "metadata": {},
   "outputs": [],
   "source": [
    "df['membership_category'] = df['membership_category'].map({\n",
    "    'No Membership': 0, \n",
    "    'Gold Membership': 1, \n",
    "    'Basic Membership': 2, \n",
    "    'Silver Membership': 3, \n",
    "    'Premium Membership': 4, \n",
    "    'Platinum Membership': 5\n",
    "})"
   ]
  },
  {
   "cell_type": "code",
   "execution_count": 19,
   "id": "1246f59c-eeff-44b2-9910-622f9e8c44ce",
   "metadata": {},
   "outputs": [],
   "source": [
    "df['preferred_offer_types'] = df['preferred_offer_types'].map({\n",
    "    'Gift Vouchers/Coupons': 0, \n",
    "    'Credit/Debit Card Offers': 1, \n",
    "    'Without Offers': 2\n",
    "})"
   ]
  },
  {
   "cell_type": "code",
   "execution_count": 20,
   "id": "dad53f4e-3a13-4990-b71d-c8f1a9e05337",
   "metadata": {},
   "outputs": [],
   "source": [
    "df['complaint_status'] = df['complaint_status'].map({\n",
    "    'Solved in Follow-up': 0, \n",
    "    'Unsolved': 1, \n",
    "    'Solved': 2, \n",
    "    'Not Applicable': 3, \n",
    "    'No Information Available': 4\n",
    "})"
   ]
  },
  {
   "cell_type": "code",
   "execution_count": 21,
   "id": "e8a08507-4569-4ce5-b117-63327fb9e0a6",
   "metadata": {},
   "outputs": [],
   "source": [
    "# Olumlu ve olumsuz geri bildirimleri gruplandırıyoruz\n",
    "positive_feedback = ['Quality Customer Care', 'User Friendly Website', 'Reasonable Price']\n",
    "negative_feedback = ['Poor Website', 'Poor Product Quality', 'Too many ads', 'Poor Customer Service']\n",
    "\n",
    "# Hem 'feedback' hem de 'feedback_sentiment' sütunlarını güncelleyen işlem\n",
    "df['feedback_sentiment'] = df['feedback'].apply(\n",
    "    lambda x: 1 if x in positive_feedback else (0 if x in negative_feedback else -1)\n",
    ")\n",
    "\n",
    "# 'feedback' sütununu sayısal olarak dönüştürme\n",
    "df['feedback'] = df['feedback'].apply(\n",
    "    lambda x: 1 if x in positive_feedback else (0 if x in negative_feedback else -1)\n",
    ")"
   ]
  },
  {
   "cell_type": "code",
   "execution_count": 22,
   "id": "7508a4b4-54e5-4af6-a565-6dbd3ab2e14e",
   "metadata": {},
   "outputs": [
    {
     "data": {
      "text/html": [
       "<div>\n",
       "<style scoped>\n",
       "    .dataframe tbody tr th:only-of-type {\n",
       "        vertical-align: middle;\n",
       "    }\n",
       "\n",
       "    .dataframe tbody tr th {\n",
       "        vertical-align: top;\n",
       "    }\n",
       "\n",
       "    .dataframe thead th {\n",
       "        text-align: right;\n",
       "    }\n",
       "</style>\n",
       "<table border=\"1\" class=\"dataframe\">\n",
       "  <thead>\n",
       "    <tr style=\"text-align: right;\">\n",
       "      <th></th>\n",
       "      <th>age</th>\n",
       "      <th>gender</th>\n",
       "      <th>region_category</th>\n",
       "      <th>membership_category</th>\n",
       "      <th>joining_date</th>\n",
       "      <th>joined_through_referral</th>\n",
       "      <th>preferred_offer_types</th>\n",
       "      <th>medium_of_operation</th>\n",
       "      <th>internet_option</th>\n",
       "      <th>days_since_last_login</th>\n",
       "      <th>avg_time_spent</th>\n",
       "      <th>avg_transaction_value</th>\n",
       "      <th>avg_frequency_login_days</th>\n",
       "      <th>points_in_wallet</th>\n",
       "      <th>used_special_discount</th>\n",
       "      <th>offer_application_preference</th>\n",
       "      <th>past_complaint</th>\n",
       "      <th>complaint_status</th>\n",
       "      <th>feedback</th>\n",
       "      <th>churn_risk_score</th>\n",
       "      <th>feedback_sentiment</th>\n",
       "    </tr>\n",
       "  </thead>\n",
       "  <tbody>\n",
       "    <tr>\n",
       "      <th>0</th>\n",
       "      <td>18</td>\n",
       "      <td>0</td>\n",
       "      <td>2</td>\n",
       "      <td>5</td>\n",
       "      <td>2017-08-17</td>\n",
       "      <td>0</td>\n",
       "      <td>0</td>\n",
       "      <td>0</td>\n",
       "      <td>0</td>\n",
       "      <td>17</td>\n",
       "      <td>300.63</td>\n",
       "      <td>53005.25</td>\n",
       "      <td>17.0</td>\n",
       "      <td>781.75</td>\n",
       "      <td>1</td>\n",
       "      <td>1</td>\n",
       "      <td>0</td>\n",
       "      <td>3</td>\n",
       "      <td>-1</td>\n",
       "      <td>0</td>\n",
       "      <td>-1</td>\n",
       "    </tr>\n",
       "    <tr>\n",
       "      <th>1</th>\n",
       "      <td>32</td>\n",
       "      <td>0</td>\n",
       "      <td>1</td>\n",
       "      <td>4</td>\n",
       "      <td>2017-08-28</td>\n",
       "      <td>0</td>\n",
       "      <td>0</td>\n",
       "      <td>0</td>\n",
       "      <td>1</td>\n",
       "      <td>16</td>\n",
       "      <td>306.34</td>\n",
       "      <td>12838.38</td>\n",
       "      <td>10.0</td>\n",
       "      <td>697.62</td>\n",
       "      <td>1</td>\n",
       "      <td>0</td>\n",
       "      <td>1</td>\n",
       "      <td>2</td>\n",
       "      <td>1</td>\n",
       "      <td>0</td>\n",
       "      <td>1</td>\n",
       "    </tr>\n",
       "    <tr>\n",
       "      <th>2</th>\n",
       "      <td>44</td>\n",
       "      <td>0</td>\n",
       "      <td>0</td>\n",
       "      <td>0</td>\n",
       "      <td>2016-11-11</td>\n",
       "      <td>1</td>\n",
       "      <td>0</td>\n",
       "      <td>0</td>\n",
       "      <td>0</td>\n",
       "      <td>14</td>\n",
       "      <td>516.16</td>\n",
       "      <td>21027.00</td>\n",
       "      <td>22.0</td>\n",
       "      <td>500.69</td>\n",
       "      <td>0</td>\n",
       "      <td>1</td>\n",
       "      <td>1</td>\n",
       "      <td>0</td>\n",
       "      <td>0</td>\n",
       "      <td>1</td>\n",
       "      <td>0</td>\n",
       "    </tr>\n",
       "    <tr>\n",
       "      <th>3</th>\n",
       "      <td>37</td>\n",
       "      <td>1</td>\n",
       "      <td>1</td>\n",
       "      <td>0</td>\n",
       "      <td>2016-10-29</td>\n",
       "      <td>1</td>\n",
       "      <td>0</td>\n",
       "      <td>0</td>\n",
       "      <td>1</td>\n",
       "      <td>11</td>\n",
       "      <td>53.27</td>\n",
       "      <td>25239.56</td>\n",
       "      <td>6.0</td>\n",
       "      <td>567.66</td>\n",
       "      <td>0</td>\n",
       "      <td>1</td>\n",
       "      <td>1</td>\n",
       "      <td>1</td>\n",
       "      <td>0</td>\n",
       "      <td>1</td>\n",
       "      <td>0</td>\n",
       "    </tr>\n",
       "    <tr>\n",
       "      <th>4</th>\n",
       "      <td>31</td>\n",
       "      <td>0</td>\n",
       "      <td>1</td>\n",
       "      <td>0</td>\n",
       "      <td>2017-09-12</td>\n",
       "      <td>0</td>\n",
       "      <td>1</td>\n",
       "      <td>1</td>\n",
       "      <td>1</td>\n",
       "      <td>20</td>\n",
       "      <td>113.13</td>\n",
       "      <td>24483.66</td>\n",
       "      <td>16.0</td>\n",
       "      <td>663.06</td>\n",
       "      <td>0</td>\n",
       "      <td>1</td>\n",
       "      <td>1</td>\n",
       "      <td>2</td>\n",
       "      <td>0</td>\n",
       "      <td>1</td>\n",
       "      <td>0</td>\n",
       "    </tr>\n",
       "    <tr>\n",
       "      <th>5</th>\n",
       "      <td>13</td>\n",
       "      <td>1</td>\n",
       "      <td>1</td>\n",
       "      <td>1</td>\n",
       "      <td>2016-01-08</td>\n",
       "      <td>0</td>\n",
       "      <td>0</td>\n",
       "      <td>0</td>\n",
       "      <td>0</td>\n",
       "      <td>23</td>\n",
       "      <td>433.62</td>\n",
       "      <td>13884.77</td>\n",
       "      <td>24.0</td>\n",
       "      <td>722.27</td>\n",
       "      <td>1</td>\n",
       "      <td>0</td>\n",
       "      <td>1</td>\n",
       "      <td>1</td>\n",
       "      <td>-1</td>\n",
       "      <td>0</td>\n",
       "      <td>-1</td>\n",
       "    </tr>\n",
       "    <tr>\n",
       "      <th>6</th>\n",
       "      <td>21</td>\n",
       "      <td>1</td>\n",
       "      <td>0</td>\n",
       "      <td>1</td>\n",
       "      <td>2015-03-19</td>\n",
       "      <td>1</td>\n",
       "      <td>0</td>\n",
       "      <td>0</td>\n",
       "      <td>1</td>\n",
       "      <td>10</td>\n",
       "      <td>55.38</td>\n",
       "      <td>8982.50</td>\n",
       "      <td>28.0</td>\n",
       "      <td>756.21</td>\n",
       "      <td>1</td>\n",
       "      <td>0</td>\n",
       "      <td>1</td>\n",
       "      <td>0</td>\n",
       "      <td>-1</td>\n",
       "      <td>0</td>\n",
       "      <td>-1</td>\n",
       "    </tr>\n",
       "    <tr>\n",
       "      <th>7</th>\n",
       "      <td>42</td>\n",
       "      <td>1</td>\n",
       "      <td>0</td>\n",
       "      <td>0</td>\n",
       "      <td>2016-07-12</td>\n",
       "      <td>0</td>\n",
       "      <td>1</td>\n",
       "      <td>2</td>\n",
       "      <td>2</td>\n",
       "      <td>19</td>\n",
       "      <td>429.11</td>\n",
       "      <td>44554.82</td>\n",
       "      <td>24.0</td>\n",
       "      <td>568.08</td>\n",
       "      <td>0</td>\n",
       "      <td>1</td>\n",
       "      <td>1</td>\n",
       "      <td>1</td>\n",
       "      <td>0</td>\n",
       "      <td>1</td>\n",
       "      <td>0</td>\n",
       "    </tr>\n",
       "    <tr>\n",
       "      <th>8</th>\n",
       "      <td>44</td>\n",
       "      <td>1</td>\n",
       "      <td>2</td>\n",
       "      <td>3</td>\n",
       "      <td>2016-12-14</td>\n",
       "      <td>0</td>\n",
       "      <td>2</td>\n",
       "      <td>1</td>\n",
       "      <td>2</td>\n",
       "      <td>15</td>\n",
       "      <td>191.07</td>\n",
       "      <td>18362.31</td>\n",
       "      <td>20.0</td>\n",
       "      <td>697.62</td>\n",
       "      <td>1</td>\n",
       "      <td>0</td>\n",
       "      <td>1</td>\n",
       "      <td>0</td>\n",
       "      <td>0</td>\n",
       "      <td>0</td>\n",
       "      <td>0</td>\n",
       "    </tr>\n",
       "    <tr>\n",
       "      <th>9</th>\n",
       "      <td>45</td>\n",
       "      <td>0</td>\n",
       "      <td>0</td>\n",
       "      <td>0</td>\n",
       "      <td>2016-11-30</td>\n",
       "      <td>0</td>\n",
       "      <td>0</td>\n",
       "      <td>0</td>\n",
       "      <td>0</td>\n",
       "      <td>10</td>\n",
       "      <td>97.31</td>\n",
       "      <td>19244.16</td>\n",
       "      <td>28.0</td>\n",
       "      <td>706.23</td>\n",
       "      <td>0</td>\n",
       "      <td>1</td>\n",
       "      <td>1</td>\n",
       "      <td>4</td>\n",
       "      <td>0</td>\n",
       "      <td>1</td>\n",
       "      <td>0</td>\n",
       "    </tr>\n",
       "  </tbody>\n",
       "</table>\n",
       "</div>"
      ],
      "text/plain": [
       "   age  gender  region_category  membership_category joining_date  \\\n",
       "0   18       0                2                    5   2017-08-17   \n",
       "1   32       0                1                    4   2017-08-28   \n",
       "2   44       0                0                    0   2016-11-11   \n",
       "3   37       1                1                    0   2016-10-29   \n",
       "4   31       0                1                    0   2017-09-12   \n",
       "5   13       1                1                    1   2016-01-08   \n",
       "6   21       1                0                    1   2015-03-19   \n",
       "7   42       1                0                    0   2016-07-12   \n",
       "8   44       1                2                    3   2016-12-14   \n",
       "9   45       0                0                    0   2016-11-30   \n",
       "\n",
       "   joined_through_referral  preferred_offer_types  medium_of_operation  \\\n",
       "0                        0                      0                    0   \n",
       "1                        0                      0                    0   \n",
       "2                        1                      0                    0   \n",
       "3                        1                      0                    0   \n",
       "4                        0                      1                    1   \n",
       "5                        0                      0                    0   \n",
       "6                        1                      0                    0   \n",
       "7                        0                      1                    2   \n",
       "8                        0                      2                    1   \n",
       "9                        0                      0                    0   \n",
       "\n",
       "   internet_option  days_since_last_login  avg_time_spent  \\\n",
       "0                0                     17          300.63   \n",
       "1                1                     16          306.34   \n",
       "2                0                     14          516.16   \n",
       "3                1                     11           53.27   \n",
       "4                1                     20          113.13   \n",
       "5                0                     23          433.62   \n",
       "6                1                     10           55.38   \n",
       "7                2                     19          429.11   \n",
       "8                2                     15          191.07   \n",
       "9                0                     10           97.31   \n",
       "\n",
       "   avg_transaction_value  avg_frequency_login_days  points_in_wallet  \\\n",
       "0               53005.25                      17.0            781.75   \n",
       "1               12838.38                      10.0            697.62   \n",
       "2               21027.00                      22.0            500.69   \n",
       "3               25239.56                       6.0            567.66   \n",
       "4               24483.66                      16.0            663.06   \n",
       "5               13884.77                      24.0            722.27   \n",
       "6                8982.50                      28.0            756.21   \n",
       "7               44554.82                      24.0            568.08   \n",
       "8               18362.31                      20.0            697.62   \n",
       "9               19244.16                      28.0            706.23   \n",
       "\n",
       "   used_special_discount  offer_application_preference  past_complaint  \\\n",
       "0                      1                             1               0   \n",
       "1                      1                             0               1   \n",
       "2                      0                             1               1   \n",
       "3                      0                             1               1   \n",
       "4                      0                             1               1   \n",
       "5                      1                             0               1   \n",
       "6                      1                             0               1   \n",
       "7                      0                             1               1   \n",
       "8                      1                             0               1   \n",
       "9                      0                             1               1   \n",
       "\n",
       "   complaint_status  feedback  churn_risk_score  feedback_sentiment  \n",
       "0                 3        -1                 0                  -1  \n",
       "1                 2         1                 0                   1  \n",
       "2                 0         0                 1                   0  \n",
       "3                 1         0                 1                   0  \n",
       "4                 2         0                 1                   0  \n",
       "5                 1        -1                 0                  -1  \n",
       "6                 0        -1                 0                  -1  \n",
       "7                 1         0                 1                   0  \n",
       "8                 0         0                 0                   0  \n",
       "9                 4         0                 1                   0  "
      ]
     },
     "execution_count": 22,
     "metadata": {},
     "output_type": "execute_result"
    }
   ],
   "source": [
    "df.head(10)"
   ]
  },
  {
   "cell_type": "markdown",
   "id": "59a9dc63-b9a0-4f88-bc10-d42b3a1f2451",
   "metadata": {},
   "source": [
    "# 9. Veri Görselleştirmesi"
   ]
  },
  {
   "cell_type": "code",
   "execution_count": 23,
   "id": "e8e5bed4-ce59-468b-b93e-8528258c08c3",
   "metadata": {},
   "outputs": [
    {
     "data": {
      "image/png": "[encoded data removed]",
      "text/plain": [
       "<Figure size 1000x600 with 1 Axes>"
      ]
     },
     "metadata": {},
     "output_type": "display_data"
    }
   ],
   "source": [
    "# Yaşın dağılımını görselleştirelim\n",
    "plt.figure(figsize=(10, 6))\n",
    "sns.histplot(df['age'], kde=True, color='skyblue')\n",
    "plt.title('Yaş Dağılımı')\n",
    "plt.xlabel('Yaş')\n",
    "plt.ylabel('Frekans')\n",
    "plt.show()"
   ]
  },
  {
   "cell_type": "code",
   "execution_count": 24,
   "id": "66bd9f4c-fc61-4aaa-9f35-9aa81dcfac01",
   "metadata": {},
   "outputs": [
    {
     "data": {
      "image/png": "[encoded data removed]",
      "text/plain": [
       "<Figure size 800x500 with 1 Axes>"
      ]
     },
     "metadata": {},
     "output_type": "display_data"
    }
   ],
   "source": [
    "# Bölge kategorilerine göre churn riskini görselleştirelim\n",
    "plt.figure(figsize=(8, 5))\n",
    "sns.countplot(x='region_category', hue='churn_risk_score', data=df, palette='coolwarm')\n",
    "plt.title('Bölge Kategorilerine Göre Churn Risk Dağılımı')\n",
    "plt.xlabel('Bölge Kategorisi')  # Region category axis label updated\n",
    "plt.ylabel('Churn Sayısı')  # Count axis label remains the same\n",
    "plt.xticks(ticks=[0, 1, 2], labels=['Town', 'City', 'Village'])  # Updated x-axis labels\n",
    "plt.show()"
   ]
  },
  {
   "cell_type": "code",
   "execution_count": 25,
   "id": "86760712-045b-4237-8277-54f1676441db",
   "metadata": {},
   "outputs": [
    {
     "data": {
      "image/png": "[encoded data removed]",
      "text/plain": [
       "<Figure size 1000x600 with 1 Axes>"
      ]
     },
     "metadata": {},
     "output_type": "display_data"
    }
   ],
   "source": [
    "# Üyelik kategorisine göre churn riskini görselleştirelim\n",
    "plt.figure(figsize=(10, 6))\n",
    "sns.countplot(x='membership_category', hue='churn_risk_score', data=df, palette='coolwarm')\n",
    "plt.title('Üyelik Kategorisine Göre Churn Risk Dağılımı')\n",
    "plt.xlabel('Üyelik Kategorisi')\n",
    "plt.ylabel('Churn Sayısı')\n",
    "plt.xticks(ticks=[0, 1, 2 , 3 , 4 , 5], labels=['No Membership', 'Gold', 'Basic' , 'Silver' , 'Premium' , 'Platinum'])\n",
    "plt.show()"
   ]
  },
  {
   "cell_type": "code",
   "execution_count": 26,
   "id": "b28bf40f-6ac3-4df8-b499-e127dd1cb2d2",
   "metadata": {},
   "outputs": [
    {
     "data": {
      "image/png": "[encoded data removed]",
      "text/plain": [
       "<Figure size 1200x600 with 1 Axes>"
      ]
     },
     "metadata": {},
     "output_type": "display_data"
    }
   ],
   "source": [
    "#Üyelik Kategorisine Göre Ortalama Harcanan Zaman\n",
    "plt.figure(figsize=(12, 6))\n",
    "sns.barplot(x='membership_category', y='avg_time_spent', data=df, palette='muted', hue='membership_category')\n",
    "plt.title('Üyelik Kategorisine Göre Ortalama Harcanan Zaman')\n",
    "plt.xlabel('Üyelik Kategorisi')\n",
    "plt.ylabel('Ortalama Zaman (Dakika)')\n",
    "plt.xticks(ticks=[0, 1, 2, 3, 4, 5], labels=['No Membership', 'Gold', 'Basic' , 'Silver' , 'Premium' , 'Platinum'])\n",
    "plt.legend(title='Üyelik Kategorisi')\n",
    "plt.show()"
   ]
  },
  {
   "cell_type": "code",
   "execution_count": 27,
   "id": "d79a1376-604e-451e-bb9d-00fa20dffaa2",
   "metadata": {},
   "outputs": [
    {
     "data": {
      "image/png": "[encoded data removed]",
      "text/plain": [
       "<Figure size 1000x600 with 1 Axes>"
      ]
     },
     "metadata": {},
     "output_type": "display_data"
    }
   ],
   "source": [
    "# Şikayet Durumuna Göre Churn Risk Dağılımı\n",
    "plt.figure(figsize=(10, 6))\n",
    "sns.countplot(x='complaint_status', hue='churn_risk_score', data=df, palette='coolwarm')\n",
    "plt.title('Şikayet Durumuna Göre Churn Risk Dağılımı')\n",
    "plt.xlabel('Şikayet Durumu')\n",
    "plt.ylabel('Churn Sayısı')\n",
    "plt.xticks(ticks=[0, 1, 2, 3, 4], labels=['Solved in Follow-up', 'Unsolved', 'Solved', 'Not Applicable', 'No Information Available'])\n",
    "plt.show()\n"
   ]
  },
  {
   "cell_type": "code",
   "execution_count": 28,
   "id": "5d59840e-51e4-4923-9161-f03f0daff3eb",
   "metadata": {},
   "outputs": [
    {
     "data": {
      "image/png": "[encoded data removed]",
      "text/plain": [
       "<Figure size 1000x600 with 1 Axes>"
      ]
     },
     "metadata": {},
     "output_type": "display_data"
    }
   ],
   "source": [
    "# Tavsiye Durumuna Göre Churn Risk Dağılımı\n",
    "plt.figure(figsize=(10, 6))\n",
    "sns.countplot(x='joined_through_referral', hue='churn_risk_score', data=df, palette='coolwarm')\n",
    "plt.title('Tavsiye Durumuna Göre Churn Risk Dağılımı')\n",
    "plt.xlabel('Tavsiye ile Üyelik')\n",
    "plt.ylabel('Churn Sayısı')\n",
    "plt.xticks(ticks=[0, 1], labels=['No', 'Yes'])\n",
    "plt.show()"
   ]
  },
  {
   "cell_type": "code",
   "execution_count": 29,
   "id": "53d3a392-6610-4e95-912d-e07ddca1d3b1",
   "metadata": {},
   "outputs": [
    {
     "data": {
      "image/png": "[encoded data removed]",
      "text/plain": [
       "<Figure size 1200x600 with 1 Axes>"
      ]
     },
     "metadata": {},
     "output_type": "display_data"
    }
   ],
   "source": [
    "# Churn Riskine Göre Tercih Edilen Teklif Türler\n",
    "plt.figure(figsize=(12, 6))\n",
    "sns.countplot(x='preferred_offer_types', hue='churn_risk_score', data=df, palette='coolwarm')\n",
    "plt.title('Churn Riskine Göre Tercih Edilen Teklif Türleri')\n",
    "plt.xlabel('Teklif Türleri')\n",
    "plt.ylabel('Churn Sayısı')\n",
    "plt.xticks(ticks=[0, 1, 2], labels=['Gift Vouchers/Coupons', 'Credit/Debit Card Offers', 'Without Offers'])\n",
    "plt.show()"
   ]
  },
  {
   "cell_type": "markdown",
   "id": "91209546-4266-4ce9-b396-7bfda915ea60",
   "metadata": {},
   "source": [
    "# 10. Veri Setinin Bölünmesi"
   ]
  },
  {
   "cell_type": "code",
   "execution_count": 76,
   "id": "ae1c41d0-ab56-49ab-9f99-6736a40dc6da",
   "metadata": {},
   "outputs": [],
   "source": [
    "# Bağımsız ve bağımlı değişkenleri ayıralım\n",
    "X = df.drop(columns=['churn_risk_score', \"joining_date\"])\n",
    "y = df['churn_risk_score']"
   ]
  },
  {
   "cell_type": "code",
   "execution_count": 77,
   "id": "61dc73b6-42c2-421c-b411-f6039eb0d16b",
   "metadata": {},
   "outputs": [],
   "source": [
    "# Eğitim ve test verisine ayırıyoruz\n",
    "from sklearn.model_selection import train_test_split\n",
    "X_train, X_test, y_train, y_test = train_test_split(X, y, test_size=0.2, random_state=42)"
   ]
  },
  {
   "cell_type": "markdown",
   "id": "49b47c99-6f31-44af-a762-ec57753427aa",
   "metadata": {},
   "source": [
    "# 11. Özellik Ölçeklendirme"
   ]
  },
  {
   "cell_type": "code",
   "execution_count": 78,
   "id": "3bbb821c-0f88-4954-8076-600ea4974c0a",
   "metadata": {},
   "outputs": [],
   "source": [
    "# Veriyi ölçeklendiriyoruz (StandardScaler kullanarak)\n",
    "from sklearn.preprocessing import StandardScaler\n",
    "scaler = StandardScaler()\n",
    "X_train_scaled = scaler.fit_transform(X_train)\n",
    "X_test_scaled = scaler.transform(X_test)"
   ]
  },
  {
   "cell_type": "markdown",
   "id": "e583c9b4-8722-4482-a7a8-ebeaf8f97338",
   "metadata": {},
   "source": [
    "## 12. Model Değerlendirme Kütüphanelerinin Yüklenmesi"
   ]
  },
  {
   "cell_type": "code",
   "execution_count": 79,
   "id": "42fe1d2c-95d2-456b-aa61-f47161bf3015",
   "metadata": {},
   "outputs": [],
   "source": [
    "from sklearn.model_selection import cross_val_score, GridSearchCV\n",
    "from sklearn.metrics import accuracy_score, confusion_matrix, classification_report"
   ]
  },
  {
   "cell_type": "markdown",
   "id": "1ba87b52-045e-4cf8-8bd3-3d2ee4750f77",
   "metadata": {},
   "source": [
    "# 13. Lojistik Regresyon Modeli"
   ]
  },
  {
   "cell_type": "code",
   "execution_count": 80,
   "id": "360fcc5b-c0f1-41d4-8a3c-5df61b162dea",
   "metadata": {},
   "outputs": [],
   "source": [
    "from sklearn.linear_model import LogisticRegression\n",
    "logreg_model = LogisticRegression(max_iter=2000, random_state=42)\n",
    "\n",
    "# Lojistik Regresyon Modeli ile test seti üzerinde tahmin yapma\n",
    "logreg_model.fit(X_train_scaled, y_train)\n",
    "y_pred_logreg = logreg_model.predict(X_test_scaled)\n",
    "\n",
    "# Model doğruluğunu çapraz doğrulama ile değerlendiriyoruz\n",
    "logreg_cv_score = cross_val_score(logreg_model, X_train_scaled, y_train, cv=5, scoring='accuracy')"
   ]
  },
  {
   "cell_type": "raw",
   "id": "bd2191b5-c763-4bdf-892d-344fd24c10fa",
   "metadata": {},
   "source": [
    "# Lojistik Regresyon Modeli Sonuçları"
   ]
  },
  {
   "cell_type": "code",
   "execution_count": 82,
   "id": "7d6dd706-57d8-4787-825c-79e098c335e2",
   "metadata": {},
   "outputs": [
    {
     "name": "stdout",
     "output_type": "stream",
     "text": [
      "Logistic Regression Modeli için Çapraz Doğrulama Skorları: [0.79523568 0.80165569 0.79472884 0.80686043 0.80196012]\n"
     ]
    }
   ],
   "source": [
    "print(f'Logistic Regression Modeli için Çapraz Doğrulama Skorları: {logreg_cv_score}')"
   ]
  },
  {
   "cell_type": "code",
   "execution_count": 83,
   "id": "5228b99f-27cf-4b20-8737-5917732da5dd",
   "metadata": {},
   "outputs": [
    {
     "name": "stdout",
     "output_type": "stream",
     "text": [
      "Ortalama doğruluk: 0.80\n"
     ]
    }
   ],
   "source": [
    "print(f'Ortalama doğruluk: {logreg_cv_score.mean():.2f}')"
   ]
  },
  {
   "cell_type": "code",
   "execution_count": 84,
   "id": "afe0f0a3-c2e3-4a25-a97d-5b9710378a7d",
   "metadata": {},
   "outputs": [
    {
     "name": "stdout",
     "output_type": "stream",
     "text": [
      "Lojistik Regresyon Modeli Doğruluğu: 0.79\n"
     ]
    }
   ],
   "source": [
    "print(f'Lojistik Regresyon Modeli Doğruluğu: {accuracy_score(y_test, y_pred_logreg):.2f}')"
   ]
  },
  {
   "cell_type": "code",
   "execution_count": 85,
   "id": "c12bc075-424b-4c47-a126-1438e18346d2",
   "metadata": {},
   "outputs": [
    {
     "name": "stdout",
     "output_type": "stream",
     "text": [
      "Confusion Matrix:\n",
      "[[2476  901]\n",
      " [ 618 3404]]\n"
     ]
    }
   ],
   "source": [
    "print(f'Confusion Matrix:\\n{confusion_matrix(y_test, y_pred_logreg)}')"
   ]
  },
  {
   "cell_type": "markdown",
   "id": "9815e6c1-7aed-4c7e-a7a5-f404d8c0af60",
   "metadata": {},
   "source": [
    "## 13.1. Sonuçların Görselleştirilmesi"
   ]
  },
  {
   "cell_type": "code",
   "execution_count": 101,
   "id": "8575fc7c-4199-40c7-a55b-bfcd798e6592",
   "metadata": {},
   "outputs": [
    {
     "data": {
      "image/png": "[encoded data removed]",
      "text/plain": [
       "<Figure size 800x600 with 1 Axes>"
      ]
     },
     "metadata": {},
     "output_type": "display_data"
    }
   ],
   "source": [
    "# Modelin performansını değerlendirecek confusion matrix görselleştirelim\n",
    "plt.figure(figsize=(8, 6))\n",
    "sns.heatmap(confusion_matrix(y_test, y_pred_logreg), annot=True, fmt='d', cmap='Blues', cbar=False)\n",
    "plt.title('Lojistik Regresyon Modeli Confusion Matrix')\n",
    "plt.xlabel('Tahmin Edilen')\n",
    "plt.ylabel('Gerçek Değer')\n",
    "plt.show()"
   ]
  },
  {
   "cell_type": "markdown",
   "id": "abc056da-89f0-40ca-93db-a293396dc396",
   "metadata": {},
   "source": [
    "## 13.2. Raporlama"
   ]
  },
  {
   "cell_type": "code",
   "execution_count": 91,
   "id": "1afc25df-2175-45e4-996e-9b3ce1b0debe",
   "metadata": {},
   "outputs": [
    {
     "name": "stdout",
     "output_type": "stream",
     "text": [
      "Classification Report:\n",
      "               precision    recall  f1-score   support\n",
      "\n",
      "           0       0.80      0.73      0.77      3377\n",
      "           1       0.79      0.85      0.82      4022\n",
      "\n",
      "    accuracy                           0.79      7399\n",
      "   macro avg       0.80      0.79      0.79      7399\n",
      "weighted avg       0.80      0.79      0.79      7399\n",
      "\n"
     ]
    }
   ],
   "source": [
    "print(\"Classification Report:\\n\", classification_report(y_test, y_pred_logreg))"
   ]
  },
  {
   "cell_type": "markdown",
   "id": "ff651a14-ee29-452e-967c-bcd68bbe3ece",
   "metadata": {},
   "source": [
    "# 14. Random Forest Modeli ve Hiperparametre Optimizasyonu"
   ]
  },
  {
   "cell_type": "code",
   "execution_count": 103,
   "id": "253bbbd1-2ada-48fa-8995-f5d786613c78",
   "metadata": {},
   "outputs": [
    {
     "name": "stdout",
     "output_type": "stream",
     "text": [
      "Fitting 5 folds for each of 81 candidates, totalling 405 fits\n",
      "En iyi hiperparametreler: {'max_depth': 20, 'min_samples_leaf': 1, 'min_samples_split': 5, 'n_estimators': 300}\n"
     ]
    }
   ],
   "source": [
    "from sklearn.ensemble import RandomForestClassifier\n",
    "param_grid = {\n",
    "    'n_estimators': [100, 200, 300],\n",
    "    'max_depth': [10, 20, 30],\n",
    "    'min_samples_split': [2, 5, 10],\n",
    "    'min_samples_leaf': [1, 2, 4]\n",
    "}\n",
    "\n",
    "rf_model = RandomForestClassifier(random_state=42)\n",
    "grid_search = GridSearchCV(estimator=rf_model, param_grid=param_grid, cv=5, n_jobs=-1, verbose=2)\n",
    "grid_search.fit(X_train_scaled, y_train)\n",
    "\n",
    "# En iyi hiperparametreleri yazdırıyoruz\n",
    "print(f'En iyi hiperparametreler: {grid_search.best_params_}')"
   ]
  },
  {
   "cell_type": "code",
   "execution_count": 105,
   "id": "b690315a-0a99-4fc8-b5b4-fb287613afdb",
   "metadata": {},
   "outputs": [],
   "source": [
    "# En iyi model ile tahmin yapıyoruz\n",
    "best_rf_model = grid_search.best_estimator_\n",
    "y_pred_rf = best_rf_model.predict(X_test_scaled)\n",
    "y_pred_rf_binary = (y_pred_rf > 0.5).astype(int)\n",
    "\n",
    "# Modelin doğruluğunu çapraz doğrulama ile değerlendiriyoruz\n",
    "cv_scores = cross_val_score(best_rf_model, X_train_scaled, y_train, cv=5, scoring='accuracy')"
   ]
  },
  {
   "cell_type": "raw",
   "id": "c3635c7d-db04-48da-82ae-fbed0639ad4f",
   "metadata": {},
   "source": [
    "# Random Forest Regresyon Modeli Sonuçları"
   ]
  },
  {
   "cell_type": "code",
   "execution_count": 106,
   "id": "fd245a67-cd31-4be1-96ce-7647b0995b41",
   "metadata": {},
   "outputs": [
    {
     "name": "stdout",
     "output_type": "stream",
     "text": [
      "Random Forest Modeli Doğruluğu: 0.93\n"
     ]
    }
   ],
   "source": [
    "print(f'Random Forest Modeli Doğruluğu: {accuracy_score(y_test, y_pred_rf_binary):.2f}')"
   ]
  },
  {
   "cell_type": "code",
   "execution_count": 108,
   "id": "e8ab4949-2dcb-4033-8f4a-4a0aef78dd2b",
   "metadata": {},
   "outputs": [
    {
     "name": "stdout",
     "output_type": "stream",
     "text": [
      "Çapraz Doğrulama Skorları: [0.92752154 0.92464943 0.93140733 0.92987496 0.93409936]\n"
     ]
    }
   ],
   "source": [
    "print(f'Çapraz Doğrulama Skorları: {cv_scores}')"
   ]
  },
  {
   "cell_type": "code",
   "execution_count": 109,
   "id": "919a71c9-d64a-41cc-af38-0812907ed260",
   "metadata": {},
   "outputs": [
    {
     "name": "stdout",
     "output_type": "stream",
     "text": [
      "Ortalama Çapraz Doğrulama Skoru: 0.93\n"
     ]
    }
   ],
   "source": [
    "print(f'Ortalama Çapraz Doğrulama Skoru: {cv_scores.mean():.2f}')"
   ]
  },
  {
   "cell_type": "code",
   "execution_count": 110,
   "id": "c4adc305-a967-4a40-9bc4-a2d775b497a2",
   "metadata": {},
   "outputs": [
    {
     "name": "stdout",
     "output_type": "stream",
     "text": [
      "Confusion Matrix:\n",
      "[[2986  391]\n",
      " [ 160 3862]]\n"
     ]
    }
   ],
   "source": [
    "print(f'Confusion Matrix:\\n{confusion_matrix(y_test, y_pred_rf_binary)}')"
   ]
  },
  {
   "cell_type": "markdown",
   "id": "25fb6290-ad6e-405a-848d-2a7e8732005c",
   "metadata": {},
   "source": [
    "## 14.1. Sonuçların Görselleştirilmesi"
   ]
  },
  {
   "cell_type": "code",
   "execution_count": 111,
   "id": "b44c0d0f-034c-4fcd-b6b9-8efb35bee856",
   "metadata": {},
   "outputs": [
    {
     "data": {
      "image/png": "[encoded data removed]",
      "text/plain": [
       "<Figure size 800x600 with 1 Axes>"
      ]
     },
     "metadata": {},
     "output_type": "display_data"
    }
   ],
   "source": [
    "# Modelin performansını değerlendirecek confusion matrix görselleştirelim\n",
    "plt.figure(figsize=(8, 6))\n",
    "sns.heatmap(confusion_matrix(y_test, y_pred_rf_binary), annot=True, fmt='d', cmap='Blues', cbar=False)\n",
    "plt.title('Random Forest Modeli Confusion Matrix')\n",
    "plt.xlabel('Tahmin Edilen')\n",
    "plt.ylabel('Gerçek Değer')\n",
    "plt.show()"
   ]
  },
  {
   "cell_type": "markdown",
   "id": "4e9d1a12-fe4f-4d23-a88a-48f3a62a1f9a",
   "metadata": {},
   "source": [
    "## 14.2. Raporlama"
   ]
  },
  {
   "cell_type": "code",
   "execution_count": 112,
   "id": "a1bbff34-d65d-41aa-8e55-b38cf61f81d2",
   "metadata": {},
   "outputs": [
    {
     "name": "stdout",
     "output_type": "stream",
     "text": [
      "Classification Report:\n",
      "               precision    recall  f1-score   support\n",
      "\n",
      "           0       0.95      0.88      0.92      3377\n",
      "           1       0.91      0.96      0.93      4022\n",
      "\n",
      "    accuracy                           0.93      7399\n",
      "   macro avg       0.93      0.92      0.92      7399\n",
      "weighted avg       0.93      0.93      0.93      7399\n",
      "\n"
     ]
    }
   ],
   "source": [
    "print(\"Classification Report:\\n\", classification_report(y_test, y_pred_rf_binary))"
   ]
  },
  {
   "cell_type": "code",
   "execution_count": null,
   "id": "50e69693-031b-48e0-8816-bcb2ce881c0b",
   "metadata": {},
   "outputs": [],
   "source": []
  }
 ],
 "metadata": {
  "kernelspec": {
   "display_name": "Python 3 (ipykernel)",
   "language": "python",
   "name": "python3"
  },
  "language_info": {
   "codemirror_mode": {
    "name": "ipython",
    "version": 3
   },
   "file_extension": ".py",
   "mimetype": "text/x-python",
   "name": "python",
   "nbconvert_exporter": "python",
   "pygments_lexer": "ipython3",
   "version": "3.12.5"
  }
 },
 "nbformat": 4,
 "nbformat_minor": 5
}
