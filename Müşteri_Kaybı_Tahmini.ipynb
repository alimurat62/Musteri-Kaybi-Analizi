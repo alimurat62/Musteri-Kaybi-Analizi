{
 "cells": [
  {
   "cell_type": "markdown",
   "id": "e6b42e55-97b5-4f69-a6e4-50220459fc67",
   "metadata": {},
   "source": [
    "# 1. Kütüphanelerin Yüklenmesi"
   ]
  },
  {
   "cell_type": "code",
   "execution_count": 72,
   "id": "9c39ab7e-df5a-40c1-9379-3027cfb1d493",
   "metadata": {},
   "outputs": [],
   "source": [
    "import pandas as pd\n",
    "import numpy as np\n",
    "import matplotlib.pyplot as plt\n",
    "import seaborn as sns"
   ]
  },
  {
   "cell_type": "markdown",
   "id": "4699adb1-39aa-4bc0-a719-af8659c0e4b5",
   "metadata": {},
   "source": [
    "# 2. Veri Setini Yükleme"
   ]
  },
  {
   "cell_type": "code",
   "execution_count": 73,
   "id": "2e4d7a72-5089-483b-996e-3e8fa79951fe",
   "metadata": {},
   "outputs": [],
   "source": [
    "# Veri ön işleme adımında oluşturulan veriyi yüklüyoruz\n",
    "df = pd.read_csv(r\"C:\\Users\\90535\\Desktop\\Ali Murat\\ÇAŞLIŞMA\\Customer Churn Analysis\\processed_data.csv\")"
   ]
  },
  {
   "cell_type": "code",
   "execution_count": 74,
   "id": "fe8558a1-cd99-489b-8044-31694fa47fa0",
   "metadata": {},
   "outputs": [
    {
     "data": {
      "text/html": [
       "<div>\n",
       "<style scoped>\n",
       "    .dataframe tbody tr th:only-of-type {\n",
       "        vertical-align: middle;\n",
       "    }\n",
       "\n",
       "    .dataframe tbody tr th {\n",
       "        vertical-align: top;\n",
       "    }\n",
       "\n",
       "    .dataframe thead th {\n",
       "        text-align: right;\n",
       "    }\n",
       "</style>\n",
       "<table border=\"1\" class=\"dataframe\">\n",
       "  <thead>\n",
       "    <tr style=\"text-align: right;\">\n",
       "      <th></th>\n",
       "      <th>age</th>\n",
       "      <th>gender</th>\n",
       "      <th>region_category</th>\n",
       "      <th>membership_category</th>\n",
       "      <th>joining_date</th>\n",
       "      <th>joined_through_referral</th>\n",
       "      <th>preferred_offer_types</th>\n",
       "      <th>medium_of_operation</th>\n",
       "      <th>internet_option</th>\n",
       "      <th>days_since_last_login</th>\n",
       "      <th>avg_time_spent</th>\n",
       "      <th>avg_transaction_value</th>\n",
       "      <th>avg_frequency_login_days</th>\n",
       "      <th>points_in_wallet</th>\n",
       "      <th>used_special_discount</th>\n",
       "      <th>offer_application_preference</th>\n",
       "      <th>past_complaint</th>\n",
       "      <th>complaint_status</th>\n",
       "      <th>feedback</th>\n",
       "      <th>churn_risk_score</th>\n",
       "    </tr>\n",
       "  </thead>\n",
       "  <tbody>\n",
       "    <tr>\n",
       "      <th>0</th>\n",
       "      <td>18</td>\n",
       "      <td>0</td>\n",
       "      <td>2</td>\n",
       "      <td>5</td>\n",
       "      <td>2017-08-17</td>\n",
       "      <td>0</td>\n",
       "      <td>0</td>\n",
       "      <td>0</td>\n",
       "      <td>0</td>\n",
       "      <td>17</td>\n",
       "      <td>300.63</td>\n",
       "      <td>53005.25</td>\n",
       "      <td>17.0</td>\n",
       "      <td>781.75</td>\n",
       "      <td>1</td>\n",
       "      <td>1</td>\n",
       "      <td>0</td>\n",
       "      <td>3</td>\n",
       "      <td>-1</td>\n",
       "      <td>0</td>\n",
       "    </tr>\n",
       "    <tr>\n",
       "      <th>1</th>\n",
       "      <td>32</td>\n",
       "      <td>0</td>\n",
       "      <td>1</td>\n",
       "      <td>4</td>\n",
       "      <td>2017-08-28</td>\n",
       "      <td>0</td>\n",
       "      <td>0</td>\n",
       "      <td>0</td>\n",
       "      <td>1</td>\n",
       "      <td>16</td>\n",
       "      <td>306.34</td>\n",
       "      <td>12838.38</td>\n",
       "      <td>10.0</td>\n",
       "      <td>697.62</td>\n",
       "      <td>1</td>\n",
       "      <td>0</td>\n",
       "      <td>1</td>\n",
       "      <td>2</td>\n",
       "      <td>1</td>\n",
       "      <td>0</td>\n",
       "    </tr>\n",
       "    <tr>\n",
       "      <th>2</th>\n",
       "      <td>44</td>\n",
       "      <td>0</td>\n",
       "      <td>0</td>\n",
       "      <td>0</td>\n",
       "      <td>2016-11-11</td>\n",
       "      <td>1</td>\n",
       "      <td>0</td>\n",
       "      <td>0</td>\n",
       "      <td>0</td>\n",
       "      <td>14</td>\n",
       "      <td>516.16</td>\n",
       "      <td>21027.00</td>\n",
       "      <td>22.0</td>\n",
       "      <td>500.69</td>\n",
       "      <td>0</td>\n",
       "      <td>1</td>\n",
       "      <td>1</td>\n",
       "      <td>0</td>\n",
       "      <td>0</td>\n",
       "      <td>1</td>\n",
       "    </tr>\n",
       "    <tr>\n",
       "      <th>3</th>\n",
       "      <td>37</td>\n",
       "      <td>1</td>\n",
       "      <td>1</td>\n",
       "      <td>0</td>\n",
       "      <td>2016-10-29</td>\n",
       "      <td>1</td>\n",
       "      <td>0</td>\n",
       "      <td>0</td>\n",
       "      <td>1</td>\n",
       "      <td>11</td>\n",
       "      <td>53.27</td>\n",
       "      <td>25239.56</td>\n",
       "      <td>6.0</td>\n",
       "      <td>567.66</td>\n",
       "      <td>0</td>\n",
       "      <td>1</td>\n",
       "      <td>1</td>\n",
       "      <td>1</td>\n",
       "      <td>0</td>\n",
       "      <td>1</td>\n",
       "    </tr>\n",
       "    <tr>\n",
       "      <th>4</th>\n",
       "      <td>31</td>\n",
       "      <td>0</td>\n",
       "      <td>1</td>\n",
       "      <td>0</td>\n",
       "      <td>2017-09-12</td>\n",
       "      <td>0</td>\n",
       "      <td>1</td>\n",
       "      <td>1</td>\n",
       "      <td>1</td>\n",
       "      <td>20</td>\n",
       "      <td>113.13</td>\n",
       "      <td>24483.66</td>\n",
       "      <td>16.0</td>\n",
       "      <td>663.06</td>\n",
       "      <td>0</td>\n",
       "      <td>1</td>\n",
       "      <td>1</td>\n",
       "      <td>2</td>\n",
       "      <td>0</td>\n",
       "      <td>1</td>\n",
       "    </tr>\n",
       "    <tr>\n",
       "      <th>5</th>\n",
       "      <td>13</td>\n",
       "      <td>1</td>\n",
       "      <td>1</td>\n",
       "      <td>1</td>\n",
       "      <td>2016-01-08</td>\n",
       "      <td>0</td>\n",
       "      <td>0</td>\n",
       "      <td>0</td>\n",
       "      <td>0</td>\n",
       "      <td>23</td>\n",
       "      <td>433.62</td>\n",
       "      <td>13884.77</td>\n",
       "      <td>24.0</td>\n",
       "      <td>722.27</td>\n",
       "      <td>1</td>\n",
       "      <td>0</td>\n",
       "      <td>1</td>\n",
       "      <td>1</td>\n",
       "      <td>-1</td>\n",
       "      <td>0</td>\n",
       "    </tr>\n",
       "    <tr>\n",
       "      <th>6</th>\n",
       "      <td>21</td>\n",
       "      <td>1</td>\n",
       "      <td>0</td>\n",
       "      <td>1</td>\n",
       "      <td>2015-03-19</td>\n",
       "      <td>1</td>\n",
       "      <td>0</td>\n",
       "      <td>0</td>\n",
       "      <td>1</td>\n",
       "      <td>10</td>\n",
       "      <td>55.38</td>\n",
       "      <td>8982.50</td>\n",
       "      <td>28.0</td>\n",
       "      <td>756.21</td>\n",
       "      <td>1</td>\n",
       "      <td>0</td>\n",
       "      <td>1</td>\n",
       "      <td>0</td>\n",
       "      <td>-1</td>\n",
       "      <td>0</td>\n",
       "    </tr>\n",
       "    <tr>\n",
       "      <th>7</th>\n",
       "      <td>42</td>\n",
       "      <td>1</td>\n",
       "      <td>0</td>\n",
       "      <td>0</td>\n",
       "      <td>2016-07-12</td>\n",
       "      <td>0</td>\n",
       "      <td>1</td>\n",
       "      <td>2</td>\n",
       "      <td>2</td>\n",
       "      <td>19</td>\n",
       "      <td>429.11</td>\n",
       "      <td>44554.82</td>\n",
       "      <td>24.0</td>\n",
       "      <td>568.08</td>\n",
       "      <td>0</td>\n",
       "      <td>1</td>\n",
       "      <td>1</td>\n",
       "      <td>1</td>\n",
       "      <td>0</td>\n",
       "      <td>1</td>\n",
       "    </tr>\n",
       "    <tr>\n",
       "      <th>8</th>\n",
       "      <td>44</td>\n",
       "      <td>1</td>\n",
       "      <td>2</td>\n",
       "      <td>3</td>\n",
       "      <td>2016-12-14</td>\n",
       "      <td>0</td>\n",
       "      <td>2</td>\n",
       "      <td>1</td>\n",
       "      <td>2</td>\n",
       "      <td>15</td>\n",
       "      <td>191.07</td>\n",
       "      <td>18362.31</td>\n",
       "      <td>20.0</td>\n",
       "      <td>697.62</td>\n",
       "      <td>1</td>\n",
       "      <td>0</td>\n",
       "      <td>1</td>\n",
       "      <td>0</td>\n",
       "      <td>0</td>\n",
       "      <td>0</td>\n",
       "    </tr>\n",
       "    <tr>\n",
       "      <th>9</th>\n",
       "      <td>45</td>\n",
       "      <td>0</td>\n",
       "      <td>0</td>\n",
       "      <td>0</td>\n",
       "      <td>2016-11-30</td>\n",
       "      <td>0</td>\n",
       "      <td>0</td>\n",
       "      <td>0</td>\n",
       "      <td>0</td>\n",
       "      <td>10</td>\n",
       "      <td>97.31</td>\n",
       "      <td>19244.16</td>\n",
       "      <td>28.0</td>\n",
       "      <td>706.23</td>\n",
       "      <td>0</td>\n",
       "      <td>1</td>\n",
       "      <td>1</td>\n",
       "      <td>4</td>\n",
       "      <td>0</td>\n",
       "      <td>1</td>\n",
       "    </tr>\n",
       "  </tbody>\n",
       "</table>\n",
       "</div>"
      ],
      "text/plain": [
       "   age  gender  region_category  membership_category joining_date  \\\n",
       "0   18       0                2                    5   2017-08-17   \n",
       "1   32       0                1                    4   2017-08-28   \n",
       "2   44       0                0                    0   2016-11-11   \n",
       "3   37       1                1                    0   2016-10-29   \n",
       "4   31       0                1                    0   2017-09-12   \n",
       "5   13       1                1                    1   2016-01-08   \n",
       "6   21       1                0                    1   2015-03-19   \n",
       "7   42       1                0                    0   2016-07-12   \n",
       "8   44       1                2                    3   2016-12-14   \n",
       "9   45       0                0                    0   2016-11-30   \n",
       "\n",
       "   joined_through_referral  preferred_offer_types  medium_of_operation  \\\n",
       "0                        0                      0                    0   \n",
       "1                        0                      0                    0   \n",
       "2                        1                      0                    0   \n",
       "3                        1                      0                    0   \n",
       "4                        0                      1                    1   \n",
       "5                        0                      0                    0   \n",
       "6                        1                      0                    0   \n",
       "7                        0                      1                    2   \n",
       "8                        0                      2                    1   \n",
       "9                        0                      0                    0   \n",
       "\n",
       "   internet_option  days_since_last_login  avg_time_spent  \\\n",
       "0                0                     17          300.63   \n",
       "1                1                     16          306.34   \n",
       "2                0                     14          516.16   \n",
       "3                1                     11           53.27   \n",
       "4                1                     20          113.13   \n",
       "5                0                     23          433.62   \n",
       "6                1                     10           55.38   \n",
       "7                2                     19          429.11   \n",
       "8                2                     15          191.07   \n",
       "9                0                     10           97.31   \n",
       "\n",
       "   avg_transaction_value  avg_frequency_login_days  points_in_wallet  \\\n",
       "0               53005.25                      17.0            781.75   \n",
       "1               12838.38                      10.0            697.62   \n",
       "2               21027.00                      22.0            500.69   \n",
       "3               25239.56                       6.0            567.66   \n",
       "4               24483.66                      16.0            663.06   \n",
       "5               13884.77                      24.0            722.27   \n",
       "6                8982.50                      28.0            756.21   \n",
       "7               44554.82                      24.0            568.08   \n",
       "8               18362.31                      20.0            697.62   \n",
       "9               19244.16                      28.0            706.23   \n",
       "\n",
       "   used_special_discount  offer_application_preference  past_complaint  \\\n",
       "0                      1                             1               0   \n",
       "1                      1                             0               1   \n",
       "2                      0                             1               1   \n",
       "3                      0                             1               1   \n",
       "4                      0                             1               1   \n",
       "5                      1                             0               1   \n",
       "6                      1                             0               1   \n",
       "7                      0                             1               1   \n",
       "8                      1                             0               1   \n",
       "9                      0                             1               1   \n",
       "\n",
       "   complaint_status  feedback  churn_risk_score  \n",
       "0                 3        -1                 0  \n",
       "1                 2         1                 0  \n",
       "2                 0         0                 1  \n",
       "3                 1         0                 1  \n",
       "4                 2         0                 1  \n",
       "5                 1        -1                 0  \n",
       "6                 0        -1                 0  \n",
       "7                 1         0                 1  \n",
       "8                 0         0                 0  \n",
       "9                 4         0                 1  "
      ]
     },
     "execution_count": 74,
     "metadata": {},
     "output_type": "execute_result"
    }
   ],
   "source": [
    "# İlk 10 satıra bakalım\n",
    "df.head(10)"
   ]
  },
  {
   "cell_type": "markdown",
   "id": "6ac386cc-fc60-4dd8-868b-0e7e48325ac9",
   "metadata": {},
   "source": [
    "# 3. Tarih Formatı ve Kodlama"
   ]
  },
  {
   "cell_type": "code",
   "execution_count": 75,
   "id": "95dcdb1f-3c09-47d7-89c0-31a0541b1381",
   "metadata": {},
   "outputs": [],
   "source": [
    "# Tarih sütununu doğru formatta datetime türüne çeviriyoruz\n",
    "df['joining_date'] = pd.to_datetime(df['joining_date'])"
   ]
  },
  {
   "cell_type": "code",
   "execution_count": 76,
   "id": "61a7d5af-598b-4699-8975-de306c76dc12",
   "metadata": {},
   "outputs": [
    {
     "name": "stdout",
     "output_type": "stream",
     "text": [
      "<class 'pandas.core.frame.DataFrame'>\n",
      "RangeIndex: 36992 entries, 0 to 36991\n",
      "Data columns (total 20 columns):\n",
      " #   Column                        Non-Null Count  Dtype         \n",
      "---  ------                        --------------  -----         \n",
      " 0   age                           36992 non-null  int64         \n",
      " 1   gender                        36992 non-null  int64         \n",
      " 2   region_category               36992 non-null  int64         \n",
      " 3   membership_category           36992 non-null  int64         \n",
      " 4   joining_date                  36992 non-null  datetime64[ns]\n",
      " 5   joined_through_referral       36992 non-null  int64         \n",
      " 6   preferred_offer_types         36992 non-null  int64         \n",
      " 7   medium_of_operation           36992 non-null  int64         \n",
      " 8   internet_option               36992 non-null  int64         \n",
      " 9   days_since_last_login         36992 non-null  int64         \n",
      " 10  avg_time_spent                36992 non-null  float64       \n",
      " 11  avg_transaction_value         36992 non-null  float64       \n",
      " 12  avg_frequency_login_days      36992 non-null  float64       \n",
      " 13  points_in_wallet              36992 non-null  float64       \n",
      " 14  used_special_discount         36992 non-null  int64         \n",
      " 15  offer_application_preference  36992 non-null  int64         \n",
      " 16  past_complaint                36992 non-null  int64         \n",
      " 17  complaint_status              36992 non-null  int64         \n",
      " 18  feedback                      36992 non-null  int64         \n",
      " 19  churn_risk_score              36992 non-null  int64         \n",
      "dtypes: datetime64[ns](1), float64(4), int64(15)\n",
      "memory usage: 5.6 MB\n"
     ]
    }
   ],
   "source": [
    "# Veri hakkında bilgi alalım\n",
    "df.info()"
   ]
  },
  {
   "cell_type": "markdown",
   "id": "91209546-4266-4ce9-b396-7bfda915ea60",
   "metadata": {},
   "source": [
    "# 4. Veri Setinin Bölünmesi"
   ]
  },
  {
   "cell_type": "code",
   "execution_count": 77,
   "id": "ae1c41d0-ab56-49ab-9f99-6736a40dc6da",
   "metadata": {},
   "outputs": [],
   "source": [
    "# Bağımsız ve bağımlı değişkenleri ayıralım\n",
    "X = df.drop(columns=['churn_risk_score', \"joining_date\"])\n",
    "y = df['churn_risk_score']"
   ]
  },
  {
   "cell_type": "code",
   "execution_count": 78,
   "id": "61dc73b6-42c2-421c-b411-f6039eb0d16b",
   "metadata": {},
   "outputs": [],
   "source": [
    "# Eğitim ve test verisine ayırıyoruz\n",
    "from sklearn.model_selection import train_test_split\n",
    "X_train, X_test, y_train, y_test = train_test_split(X, y, test_size=0.2, random_state=42)"
   ]
  },
  {
   "cell_type": "markdown",
   "id": "49b47c99-6f31-44af-a762-ec57753427aa",
   "metadata": {},
   "source": [
    "# 5. Özellik Ölçeklendirme"
   ]
  },
  {
   "cell_type": "code",
   "execution_count": 79,
   "id": "3bbb821c-0f88-4954-8076-600ea4974c0a",
   "metadata": {},
   "outputs": [],
   "source": [
    "# Veriyi ölçeklendiriyoruz (StandardScaler kullanarak)\n",
    "from sklearn.preprocessing import StandardScaler\n",
    "scaler = StandardScaler()\n",
    "X_train_scaled = scaler.fit_transform(X_train)\n",
    "X_test_scaled = scaler.transform(X_test)"
   ]
  },
  {
   "cell_type": "markdown",
   "id": "e583c9b4-8722-4482-a7a8-ebeaf8f97338",
   "metadata": {},
   "source": [
    "# 6. Model Değerlendirme Kütüphanelerinin Yüklenmesi"
   ]
  },
  {
   "cell_type": "code",
   "execution_count": 80,
   "id": "42fe1d2c-95d2-456b-aa61-f47161bf3015",
   "metadata": {},
   "outputs": [],
   "source": [
    "from sklearn.model_selection import cross_val_score, GridSearchCV\n",
    "from sklearn.metrics import accuracy_score, confusion_matrix, classification_report"
   ]
  },
  {
   "cell_type": "markdown",
   "id": "1ba87b52-045e-4cf8-8bd3-3d2ee4750f77",
   "metadata": {},
   "source": [
    "# 7. Lojistik Regresyon Modeli"
   ]
  },
  {
   "cell_type": "code",
   "execution_count": 81,
   "id": "360fcc5b-c0f1-41d4-8a3c-5df61b162dea",
   "metadata": {},
   "outputs": [],
   "source": [
    "from sklearn.linear_model import LogisticRegression\n",
    "logreg_model = LogisticRegression(max_iter=2000, random_state=42)\n",
    "\n",
    "# Lojistik Regresyon Modeli ile test seti üzerinde tahmin yapma\n",
    "logreg_model.fit(X_train_scaled, y_train)\n",
    "y_pred_logreg = logreg_model.predict(X_test_scaled)\n",
    "\n",
    "# Model doğruluğunu çapraz doğrulama ile değerlendiriyoruz\n",
    "logreg_cv_score = cross_val_score(logreg_model, X_train_scaled, y_train, cv=5, scoring='accuracy')"
   ]
  },
  {
   "cell_type": "raw",
   "id": "bd2191b5-c763-4bdf-892d-344fd24c10fa",
   "metadata": {},
   "source": [
    "# Lojistik Regresyon Modeli Sonuçları"
   ]
  },
  {
   "cell_type": "code",
   "execution_count": 82,
   "id": "7d6dd706-57d8-4787-825c-79e098c335e2",
   "metadata": {},
   "outputs": [
    {
     "name": "stdout",
     "output_type": "stream",
     "text": [
      "Logistic Regression Modeli için Çapraz Doğrulama Skorları: [0.79540463 0.80148674 0.79472884 0.80669145 0.80179115]\n"
     ]
    }
   ],
   "source": [
    "print(f'Logistic Regression Modeli için Çapraz Doğrulama Skorları: {logreg_cv_score}')"
   ]
  },
  {
   "cell_type": "code",
   "execution_count": 83,
   "id": "5228b99f-27cf-4b20-8737-5917732da5dd",
   "metadata": {},
   "outputs": [
    {
     "name": "stdout",
     "output_type": "stream",
     "text": [
      "Ortalama doğruluk: 0.80\n"
     ]
    }
   ],
   "source": [
    "print(f'Ortalama doğruluk: {logreg_cv_score.mean():.2f}')"
   ]
  },
  {
   "cell_type": "code",
   "execution_count": 84,
   "id": "afe0f0a3-c2e3-4a25-a97d-5b9710378a7d",
   "metadata": {},
   "outputs": [
    {
     "name": "stdout",
     "output_type": "stream",
     "text": [
      "Lojistik Regresyon Modeli Doğruluğu: 0.79\n"
     ]
    }
   ],
   "source": [
    "print(f'Lojistik Regresyon Modeli Doğruluğu: {accuracy_score(y_test, y_pred_logreg):.2f}')"
   ]
  },
  {
   "cell_type": "code",
   "execution_count": 85,
   "id": "c12bc075-424b-4c47-a126-1438e18346d2",
   "metadata": {},
   "outputs": [
    {
     "name": "stdout",
     "output_type": "stream",
     "text": [
      "Confusion Matrix:\n",
      "[[2476  901]\n",
      " [ 619 3403]]\n"
     ]
    }
   ],
   "source": [
    "print(f'Confusion Matrix:\\n{confusion_matrix(y_test, y_pred_logreg)}')"
   ]
  },
  {
   "cell_type": "markdown",
   "id": "9815e6c1-7aed-4c7e-a7a5-f404d8c0af60",
   "metadata": {},
   "source": [
    "## 7.1. Sonuçların Görselleştirilmesi"
   ]
  },
  {
   "cell_type": "code",
   "execution_count": 86,
   "id": "8575fc7c-4199-40c7-a55b-bfcd798e6592",
   "metadata": {},
   "outputs": [
    {
     "data": {
      "image/png": "[encoded data removed]",
      "text/plain": [
       "<Figure size 800x600 with 1 Axes>"
      ]
     },
     "metadata": {},
     "output_type": "display_data"
    }
   ],
   "source": [
    "# Modelin performansını değerlendirecek confusion matrix görselleştirelim\n",
    "plt.figure(figsize=(8, 6))\n",
    "sns.heatmap(confusion_matrix(y_test, y_pred_logreg), annot=True, fmt='d', cmap='Blues', cbar=False)\n",
    "plt.title('Lojistik Regresyon Modeli Confusion Matrix')\n",
    "plt.xlabel('Tahmin Edilen')\n",
    "plt.ylabel('Gerçek Değer')\n",
    "plt.show()"
   ]
  },
  {
   "cell_type": "markdown",
   "id": "abc056da-89f0-40ca-93db-a293396dc396",
   "metadata": {},
   "source": [
    "## 7.2. Raporlama"
   ]
  },
  {
   "cell_type": "code",
   "execution_count": 87,
   "id": "1afc25df-2175-45e4-996e-9b3ce1b0debe",
   "metadata": {},
   "outputs": [
    {
     "name": "stdout",
     "output_type": "stream",
     "text": [
      "Classification Report:\n",
      "               precision    recall  f1-score   support\n",
      "\n",
      "           0       0.80      0.73      0.77      3377\n",
      "           1       0.79      0.85      0.82      4022\n",
      "\n",
      "    accuracy                           0.79      7399\n",
      "   macro avg       0.80      0.79      0.79      7399\n",
      "weighted avg       0.79      0.79      0.79      7399\n",
      "\n"
     ]
    }
   ],
   "source": [
    "print(\"Classification Report:\\n\", classification_report(y_test, y_pred_logreg))"
   ]
  },
  {
   "cell_type": "markdown",
   "id": "ff651a14-ee29-452e-967c-bcd68bbe3ece",
   "metadata": {},
   "source": [
    "# 8. Random Forest Modeli ve Hiperparametre Optimizasyonu"
   ]
  },
  {
   "cell_type": "code",
   "execution_count": 88,
   "id": "253bbbd1-2ada-48fa-8995-f5d786613c78",
   "metadata": {},
   "outputs": [
    {
     "name": "stdout",
     "output_type": "stream",
     "text": [
      "Fitting 5 folds for each of 81 candidates, totalling 405 fits\n",
      "En iyi hiperparametreler: {'max_depth': 30, 'min_samples_leaf': 1, 'min_samples_split': 2, 'n_estimators': 100}\n"
     ]
    }
   ],
   "source": [
    "from sklearn.ensemble import RandomForestClassifier\n",
    "param_grid = {\n",
    "    'n_estimators': [100, 200, 300],\n",
    "    'max_depth': [10, 20, 30],\n",
    "    'min_samples_split': [2, 5, 10],\n",
    "    'min_samples_leaf': [1, 2, 4]\n",
    "}\n",
    "\n",
    "rf_model = RandomForestClassifier(random_state=42)\n",
    "grid_search = GridSearchCV(estimator=rf_model, param_grid=param_grid, cv=5, n_jobs=-1, verbose=2)\n",
    "grid_search.fit(X_train_scaled, y_train)\n",
    "\n",
    "# En iyi hiperparametreleri yazdırıyoruz\n",
    "print(f'En iyi hiperparametreler: {grid_search.best_params_}')"
   ]
  },
  {
   "cell_type": "code",
   "execution_count": 89,
   "id": "b690315a-0a99-4fc8-b5b4-fb287613afdb",
   "metadata": {},
   "outputs": [],
   "source": [
    "# En iyi model ile tahmin yapıyoruz\n",
    "best_rf_model = grid_search.best_estimator_\n",
    "y_pred_rf = best_rf_model.predict(X_test_scaled)\n",
    "y_pred_rf_binary = (y_pred_rf > 0.5).astype(int)\n",
    "\n",
    "# Modelin doğruluğunu çapraz doğrulama ile değerlendiriyoruz\n",
    "cv_scores = cross_val_score(best_rf_model, X_train_scaled, y_train, cv=5, scoring='accuracy')"
   ]
  },
  {
   "cell_type": "raw",
   "id": "c3635c7d-db04-48da-82ae-fbed0639ad4f",
   "metadata": {},
   "source": [
    "# Random Forest Regresyon Modeli Sonuçları"
   ]
  },
  {
   "cell_type": "code",
   "execution_count": 90,
   "id": "fd245a67-cd31-4be1-96ce-7647b0995b41",
   "metadata": {},
   "outputs": [
    {
     "name": "stdout",
     "output_type": "stream",
     "text": [
      "Random Forest Modeli Doğruluğu: 0.93\n"
     ]
    }
   ],
   "source": [
    "print(f'Random Forest Modeli Doğruluğu: {accuracy_score(y_test, y_pred_rf_binary):.2f}')"
   ]
  },
  {
   "cell_type": "code",
   "execution_count": 91,
   "id": "e8ab4949-2dcb-4033-8f4a-4a0aef78dd2b",
   "metadata": {},
   "outputs": [
    {
     "name": "stdout",
     "output_type": "stream",
     "text": [
      "Çapraz Doğrulama Skorları: [0.92853523 0.92836628 0.93140733 0.9281852  0.9330855 ]\n"
     ]
    }
   ],
   "source": [
    "print(f'Çapraz Doğrulama Skorları: {cv_scores}')"
   ]
  },
  {
   "cell_type": "code",
   "execution_count": 92,
   "id": "919a71c9-d64a-41cc-af38-0812907ed260",
   "metadata": {},
   "outputs": [
    {
     "name": "stdout",
     "output_type": "stream",
     "text": [
      "Ortalama Çapraz Doğrulama Skoru: 0.93\n"
     ]
    }
   ],
   "source": [
    "print(f'Ortalama Çapraz Doğrulama Skoru: {cv_scores.mean():.2f}')"
   ]
  },
  {
   "cell_type": "code",
   "execution_count": 93,
   "id": "c4adc305-a967-4a40-9bc4-a2d775b497a2",
   "metadata": {},
   "outputs": [
    {
     "name": "stdout",
     "output_type": "stream",
     "text": [
      "Confusion Matrix:\n",
      "[[3005  372]\n",
      " [ 173 3849]]\n"
     ]
    }
   ],
   "source": [
    "print(f'Confusion Matrix:\\n{confusion_matrix(y_test, y_pred_rf_binary)}')"
   ]
  },
  {
   "cell_type": "markdown",
   "id": "25fb6290-ad6e-405a-848d-2a7e8732005c",
   "metadata": {},
   "source": [
    "## 8.1. Sonuçların Görselleştirilmesi"
   ]
  },
  {
   "cell_type": "code",
   "execution_count": 94,
   "id": "b44c0d0f-034c-4fcd-b6b9-8efb35bee856",
   "metadata": {},
   "outputs": [
    {
     "data": {
      "image/png": "[encoded data removed]",
      "text/plain": [
       "<Figure size 800x600 with 1 Axes>"
      ]
     },
     "metadata": {},
     "output_type": "display_data"
    }
   ],
   "source": [
    "# Modelin performansını değerlendirecek confusion matrix görselleştirelim\n",
    "plt.figure(figsize=(8, 6))\n",
    "sns.heatmap(confusion_matrix(y_test, y_pred_rf_binary), annot=True, fmt='d', cmap='Blues', cbar=False)\n",
    "plt.title('Random Forest Modeli Confusion Matrix')\n",
    "plt.xlabel('Tahmin Edilen')\n",
    "plt.ylabel('Gerçek Değer')\n",
    "plt.show()"
   ]
  },
  {
   "cell_type": "markdown",
   "id": "4e9d1a12-fe4f-4d23-a88a-48f3a62a1f9a",
   "metadata": {},
   "source": [
    "## 8.2. Raporlama"
   ]
  },
  {
   "cell_type": "code",
   "execution_count": 95,
   "id": "a1bbff34-d65d-41aa-8e55-b38cf61f81d2",
   "metadata": {},
   "outputs": [
    {
     "name": "stdout",
     "output_type": "stream",
     "text": [
      "Classification Report:\n",
      "               precision    recall  f1-score   support\n",
      "\n",
      "           0       0.95      0.89      0.92      3377\n",
      "           1       0.91      0.96      0.93      4022\n",
      "\n",
      "    accuracy                           0.93      7399\n",
      "   macro avg       0.93      0.92      0.93      7399\n",
      "weighted avg       0.93      0.93      0.93      7399\n",
      "\n"
     ]
    }
   ],
   "source": [
    "print(\"Classification Report:\\n\", classification_report(y_test, y_pred_rf_binary))"
   ]
  },
  {
   "cell_type": "code",
   "execution_count": null,
   "id": "50e69693-031b-48e0-8816-bcb2ce881c0b",
   "metadata": {},
   "outputs": [],
   "source": []
  }
 ],
 "metadata": {
  "kernelspec": {
   "display_name": "Python 3 (ipykernel)",
   "language": "python",
   "name": "python3"
  },
  "language_info": {
   "codemirror_mode": {
    "name": "ipython",
    "version": 3
   },
   "file_extension": ".py",
   "mimetype": "text/x-python",
   "name": "python",
   "nbconvert_exporter": "python",
   "pygments_lexer": "ipython3",
   "version": "3.12.5"
  }
 },
 "nbformat": 4,
 "nbformat_minor": 5
}
